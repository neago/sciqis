{
 "cells": [
  {
   "cell_type": "markdown",
   "id": "17f52e42-8c7a-4235-ab82-7021595fe6a9",
   "metadata": {},
   "source": [
    "[10387 - Scientific Computing in Quantum Information Science](https://kurser.dtu.dk/course/10387)\n",
    "\n",
    "# Faster code"
   ]
  },
  {
   "cell_type": "markdown",
   "id": "d6529c00-19e2-4d70-9f8f-3d0f5792aafa",
   "metadata": {},
   "source": [
    "Pure Python can be rather slow. There are many ways to speed it up - first and foremost by making use of array computation through NumPy.\n",
    "\n",
    "But it can often get even faster, using tools like [Numba](), [numexpr](), [PyPy](https://doc.pypy.org/en/latest/index.html), and [Cython](https://cython.readthedocs.io/en/latest/src/quickstart/cythonize.html) or by parallelizing computations using e.g. the built-in [multiprocessing](). These can be challenging to use and may not be compatible with your existing code, so only use them when optimisation is really crucial."
   ]
  },
  {
   "cell_type": "code",
   "execution_count": 1,
   "id": "2a8be40d-5f2a-40a4-8c22-b2a6c79cfd40",
   "metadata": {},
   "outputs": [],
   "source": [
    "from math import sqrt\n",
    "import numpy as np\n",
    "import numexpr as ne\n",
    "from numba import njit\n",
    "from functools import lru_cache\n",
    "from functools import wraps\n",
    "%load_ext line_profiler\n",
    "# import cython\n",
    "# import multiprocessing as mp"
   ]
  },
  {
   "cell_type": "code",
   "execution_count": 2,
   "id": "e42f0259-0adf-4fa6-9145-cf75f6a4aa8b",
   "metadata": {},
   "outputs": [],
   "source": [
    "np.set_printoptions(precision=3, suppress=True)"
   ]
  },
  {
   "cell_type": "code",
   "execution_count": 6,
   "id": "d11407ca-a009-4375-82eb-4a3a97a80cee",
   "metadata": {},
   "outputs": [],
   "source": [
    "rng = np.random.default_rng()\n",
    "A = rng.standard_normal((1000_000, 3))"
   ]
  },
  {
   "cell_type": "code",
   "execution_count": 8,
   "id": "4840db64-4b56-41a2-870b-b5864d0468a8",
   "metadata": {},
   "outputs": [],
   "source": [
    "def norm1():\n",
    "    \"\"\"Pure Python\"\"\"\n",
    "    return [sqrt(a[0]**2 + a[1]**2 + a[2]**2) for a in A]\n",
    "\n",
    "def norm2():\n",
    "    \"\"\"Simple NumPy using np.sum\"\"\"\n",
    "    return np.sqrt(np.sum(A**2, axis=1))\n",
    "\n",
    "def norm3():\n",
    "    \"\"\"np.linalg.norm\"\"\"\n",
    "    return np.linalg.norm(A, axis=1)\n",
    "\n",
    "@njit\n",
    "def norm4():\n",
    "    \"\"\"Numba on pure Python\"\"\"\n",
    "    return [np.sqrt(a[0]**2 + a[1]**2 + a[2]**2) for a in A]\n",
    "\n",
    "@njit\n",
    "def norm5():\n",
    "    \"\"\"Numba on simple NumPy\"\"\"\n",
    "    return np.sqrt(np.sum(A**2, axis=1))\n",
    "\n",
    "@njit\n",
    "def norm6():\n",
    "    \"\"\"Numba on NumPy with 'manual' sum of coordinates\"\"\"\n",
    "    A1, A2, A3 = A.T\n",
    "    return np.sqrt(A1**2 + A2**2 + A3**2)\n",
    "    \n",
    "def norm7():\n",
    "    \"\"\"numexpr on simple NumPy (but np.sqrt external since sum must be evaluated last)\"\"\"\n",
    "    return np.sqrt(ne.evaluate('sum(A**2, axis=1)'))\n",
    "\n",
    "def norm8():\n",
    "    \"\"\"numexpr on NumPy with 'manual' sum of coordinates\"\"\"\n",
    "    A1, A2, A3 = A.T\n",
    "    return ne.evaluate('sqrt(A1**2 + A2**2 + A3**2)')"
   ]
  },
  {
   "cell_type": "code",
   "execution_count": 11,
   "id": "7bbbe75b-addb-4b49-b2f0-5d6c7cd218ff",
   "metadata": {},
   "outputs": [
    {
     "name": "stdout",
     "output_type": "stream",
     "text": [
      "1.5 ms ± 13.8 μs per loop (mean ± std. dev. of 7 runs, 1,000 loops each)\n"
     ]
    }
   ],
   "source": [
    "tim = %timeit -o norm8()"
   ]
  },
  {
   "cell_type": "code",
   "execution_count": 12,
   "id": "f803da61-2371-4be1-8909-be1853fc7ad4",
   "metadata": {},
   "outputs": [
    {
     "data": {
      "text/plain": [
       "0.001471212135000087"
      ]
     },
     "execution_count": 12,
     "metadata": {},
     "output_type": "execute_result"
    }
   ],
   "source": [
    "tim.best"
   ]
  },
  {
   "cell_type": "code",
   "execution_count": 13,
   "id": "3714f996-95b1-4f88-b536-7fd5c235f2d1",
   "metadata": {},
   "outputs": [
    {
     "data": {
      "text/plain": [
       "0.0014963133637143074"
      ]
     },
     "execution_count": 13,
     "metadata": {},
     "output_type": "execute_result"
    }
   ],
   "source": [
    "tim.average"
   ]
  },
  {
   "cell_type": "code",
   "execution_count": 14,
   "id": "afdae0f5-04d4-4005-9508-4133455ccc15",
   "metadata": {},
   "outputs": [],
   "source": [
    "funcs = [eval(f'norm{i}') for i in range(1,9)]"
   ]
  },
  {
   "cell_type": "code",
   "execution_count": 15,
   "id": "e65c22a5-7e5d-46a0-afc9-9f06eaf0b6f6",
   "metadata": {},
   "outputs": [
    {
     "name": "stdout",
     "output_type": "stream",
     "text": [
      "norm1\n",
      "Pure Python\n",
      "Matches reference function output?  True\n",
      "475 ms ± 3.29 ms per loop (mean ± std. dev. of 7 runs, 1 loop each)\n",
      "------------------------------\n",
      "norm2\n",
      "Simple NumPy using np.sum\n",
      "Matches reference function output?  True\n",
      "13.5 ms ± 201 μs per loop (mean ± std. dev. of 7 runs, 100 loops each)\n",
      "------------------------------\n",
      "norm3\n",
      "np.linalg.norm\n",
      "Matches reference function output?  True\n",
      "13.7 ms ± 242 μs per loop (mean ± std. dev. of 7 runs, 100 loops each)\n",
      "------------------------------\n",
      "norm4\n",
      "Numba on pure Python\n",
      "Matches reference function output?  True\n",
      "18.6 ms ± 688 μs per loop (mean ± std. dev. of 7 runs, 100 loops each)\n",
      "------------------------------\n",
      "norm5\n",
      "Numba on simple NumPy\n",
      "Matches reference function output?  True\n",
      "9.76 ms ± 291 μs per loop (mean ± std. dev. of 7 runs, 100 loops each)\n",
      "------------------------------\n",
      "norm6\n",
      "Numba on NumPy with 'manual' sum of coordinates\n",
      "Matches reference function output?  True\n",
      "2.09 ms ± 37.7 μs per loop (mean ± std. dev. of 7 runs, 100 loops each)\n",
      "------------------------------\n",
      "norm7\n",
      "numexpr on simple NumPy (but np.sqrt external since sum must be evaluated last)\n",
      "Matches reference function output?  True\n",
      "8.38 ms ± 192 μs per loop (mean ± std. dev. of 7 runs, 100 loops each)\n",
      "------------------------------\n",
      "norm8\n",
      "numexpr on NumPy with 'manual' sum of coordinates\n",
      "Matches reference function output?  True\n",
      "1.5 ms ± 20.8 μs per loop (mean ± std. dev. of 7 runs, 1,000 loops each)\n",
      "------------------------------\n"
     ]
    }
   ],
   "source": [
    "for func in [norm1, norm2, norm3, norm4, norm5, norm6, norm7, norm8]:\n",
    "    print(func.__name__)\n",
    "    print(func.__doc__)\n",
    "    print('Matches reference function output? ', np.allclose(norm1(), func()))\n",
    "    %timeit func()\n",
    "    print('-'*30)"
   ]
  },
  {
   "cell_type": "markdown",
   "id": "9b0b8478-223e-4fa4-aadc-5bd54f415d7d",
   "metadata": {},
   "source": [
    "Demo of `lru_cache` which can speed up functions that are called repeatedly significantly, although it doesn't work with NumPy arrays.\n",
    "\n",
    "Taken from https://www.geeksforgeeks.org/python-functools-lru_cache/."
   ]
  },
  {
   "cell_type": "code",
   "execution_count": 16,
   "id": "8a89f5ea-fbde-4dba-92b7-4b8f629b46d6",
   "metadata": {},
   "outputs": [
    {
     "name": "stdout",
     "output_type": "stream",
     "text": [
      "83.4 ms ± 805 μs per loop (mean ± std. dev. of 7 runs, 10 loops each)\n",
      "36.7 ns ± 0.261 ns per loop (mean ± std. dev. of 7 runs, 10,000,000 loops each)\n"
     ]
    }
   ],
   "source": [
    "def fib_without_cache(n): \n",
    "    if n < 2: \n",
    "        return n \n",
    "    return fib_without_cache(n-1) + fib_without_cache(n-2) \n",
    "      \n",
    "%timeit fib_without_cache(30);\n",
    "\n",
    "@lru_cache \n",
    "def fib_with_cache(n): \n",
    "    if n < 2: \n",
    "        return n \n",
    "    return fib_with_cache(n-1) + fib_with_cache(n-2) \n",
    "      \n",
    "%timeit fib_with_cache(30);"
   ]
  },
  {
   "attachments": {
    "273debf0-9f99-4df4-ba2e-9e95e056c7e2.png": {
     "image/png": "[encoded data removed]"
    }
   },
   "cell_type": "markdown",
   "id": "713f6ea6-955b-46e4-a409-765344f7ccfd",
   "metadata": {},
   "source": [
    "## Profiling and refactoring\n",
    "\n",
    "Now we'll try to program a tiny 1-qubit circuit consisting of one $R_x(\\phi)$ gate followed by an $R_z(\\phi)$ gate. We will then calculate the outputs of that for many pairs of $(\\phi,\\theta)$ values.\n",
    "\n",
    "The [definition](https://omni.wikiwand.com/en/articles/List_of_quantum_logic_gates#Rotation_operator_gates) of the two gates: \n",
    "\n",
    "![image.png](attachment:273debf0-9f99-4df4-ba2e-9e95e056c7e2.png)"
   ]
  },
  {
   "cell_type": "code",
   "execution_count": 29,
   "id": "cfd747dd-6cde-4668-9451-673afa2d19db",
   "metadata": {},
   "outputs": [],
   "source": [
    "from scipy.linalg import expm\n",
    "\n",
    "X = np.array([[0,1], [1,0]])\n",
    "Z = np.array([[1,0], [0,-1]])\n",
    "\n",
    "def RX(phi):\n",
    "    out = expm(-1j * phi/2 * X)\n",
    "    return out\n",
    "\n",
    "def RZ(phi):\n",
    "    out = expm(-1j * phi/2 * Z)\n",
    "    return out\n",
    "\n",
    "@np.vectorize\n",
    "def circuit(phi, theta):\n",
    "    ket0 = np.array([1,0])\n",
    "    U = RZ(theta) @ RX(phi)\n",
    "    out = U @ ket0\n",
    "    return out"
   ]
  },
  {
   "cell_type": "code",
   "execution_count": 18,
   "id": "c23fb978-6b1b-478f-a310-f6d0a711595b",
   "metadata": {},
   "outputs": [
    {
     "data": {
      "text/plain": [
       "array([0.854-0.354j, 0.146-0.354j])"
      ]
     },
     "execution_count": 18,
     "metadata": {},
     "output_type": "execute_result"
    }
   ],
   "source": [
    "circuit(np.pi/4, np.pi/4)"
   ]
  },
  {
   "cell_type": "code",
   "execution_count": 41,
   "id": "47296d31-17d7-4c68-b212-ef9df0f5afe5",
   "metadata": {},
   "outputs": [],
   "source": [
    "phis = np.linspace(0, 2*np.pi, 100)\n",
    "thetas = np.linspace(0, 2*np.pi, 200)\n",
    "P, T = np.meshgrid(phis, thetas, indexing='xy')"
   ]
  },
  {
   "cell_type": "code",
   "execution_count": 22,
   "id": "83ed1424-b4e2-4fed-8824-d2f22d40ca0e",
   "metadata": {},
   "outputs": [
    {
     "data": {
      "text/plain": [
       "((100,), (200,))"
      ]
     },
     "execution_count": 22,
     "metadata": {},
     "output_type": "execute_result"
    }
   ],
   "source": [
    "phis.shape, thetas.shape"
   ]
  },
  {
   "cell_type": "code",
   "execution_count": 23,
   "id": "20a0754e-3825-4a44-a8ce-82b435bcd436",
   "metadata": {},
   "outputs": [
    {
     "data": {
      "text/plain": [
       "(100, 200)"
      ]
     },
     "execution_count": 23,
     "metadata": {},
     "output_type": "execute_result"
    }
   ],
   "source": [
    "P.shape"
   ]
  },
  {
   "cell_type": "code",
   "execution_count": 24,
   "id": "28e80d65-645c-4d69-bf7a-ae200dc39182",
   "metadata": {},
   "outputs": [
    {
     "data": {
      "text/plain": [
       "(array([0.   , 1.269, 2.539, 3.808, 5.077]),\n",
       " array([0.   , 1.263, 2.526, 3.789, 5.052]))"
      ]
     },
     "execution_count": 24,
     "metadata": {},
     "output_type": "execute_result"
    }
   ],
   "source": [
    "phis[::20], thetas[::40]"
   ]
  },
  {
   "cell_type": "code",
   "execution_count": 25,
   "id": "949aabb7-2669-469d-a0a8-be7d22618e16",
   "metadata": {},
   "outputs": [
    {
     "data": {
      "text/plain": [
       "array([[0.   , 0.   , 0.   , 0.   , 0.   ],\n",
       "       [1.269, 1.269, 1.269, 1.269, 1.269],\n",
       "       [2.539, 2.539, 2.539, 2.539, 2.539],\n",
       "       [3.808, 3.808, 3.808, 3.808, 3.808],\n",
       "       [5.077, 5.077, 5.077, 5.077, 5.077]])"
      ]
     },
     "execution_count": 25,
     "metadata": {},
     "output_type": "execute_result"
    }
   ],
   "source": [
    "P[::20,::40]"
   ]
  },
  {
   "cell_type": "code",
   "execution_count": 26,
   "id": "cdab4912-cf69-4200-b3f3-72ff205ba7e4",
   "metadata": {},
   "outputs": [
    {
     "data": {
      "text/plain": [
       "array([[0.   , 1.263, 2.526, 3.789, 5.052],\n",
       "       [0.   , 1.263, 2.526, 3.789, 5.052],\n",
       "       [0.   , 1.263, 2.526, 3.789, 5.052],\n",
       "       [0.   , 1.263, 2.526, 3.789, 5.052],\n",
       "       [0.   , 1.263, 2.526, 3.789, 5.052]])"
      ]
     },
     "execution_count": 26,
     "metadata": {},
     "output_type": "execute_result"
    }
   ],
   "source": [
    "T[::20,::40]"
   ]
  },
  {
   "cell_type": "code",
   "execution_count": 27,
   "id": "a60a6f83-df48-4183-8b85-ce5a8518b0f6",
   "metadata": {},
   "outputs": [
    {
     "ename": "ValueError",
     "evalue": "operands could not be broadcast together with shapes (200,) (2,2) ",
     "output_type": "error",
     "traceback": [
      "\u001b[0;31m---------------------------------------------------------------------------\u001b[0m",
      "\u001b[0;31mValueError\u001b[0m                                Traceback (most recent call last)",
      "Cell \u001b[0;32mIn[27], line 1\u001b[0m\n\u001b[0;32m----> 1\u001b[0m \u001b[43mcircuit\u001b[49m\u001b[43m(\u001b[49m\u001b[43mphis\u001b[49m\u001b[43m,\u001b[49m\u001b[43m \u001b[49m\u001b[43mthetas\u001b[49m\u001b[43m)\u001b[49m\n",
      "Cell \u001b[0;32mIn[17], line 16\u001b[0m, in \u001b[0;36mcircuit\u001b[0;34m(phi, theta)\u001b[0m\n\u001b[1;32m     14\u001b[0m \u001b[38;5;28;01mdef\u001b[39;00m \u001b[38;5;21mcircuit\u001b[39m(phi, theta):\n\u001b[1;32m     15\u001b[0m     ket0 \u001b[38;5;241m=\u001b[39m np\u001b[38;5;241m.\u001b[39marray([\u001b[38;5;241m1\u001b[39m,\u001b[38;5;241m0\u001b[39m])\n\u001b[0;32m---> 16\u001b[0m     U \u001b[38;5;241m=\u001b[39m \u001b[43mRZ\u001b[49m\u001b[43m(\u001b[49m\u001b[43mtheta\u001b[49m\u001b[43m)\u001b[49m \u001b[38;5;241m@\u001b[39m RX(phi)\n\u001b[1;32m     17\u001b[0m     out \u001b[38;5;241m=\u001b[39m U \u001b[38;5;241m@\u001b[39m ket0\n\u001b[1;32m     18\u001b[0m     \u001b[38;5;28;01mreturn\u001b[39;00m out\n",
      "Cell \u001b[0;32mIn[17], line 11\u001b[0m, in \u001b[0;36mRZ\u001b[0;34m(phi)\u001b[0m\n\u001b[1;32m     10\u001b[0m \u001b[38;5;28;01mdef\u001b[39;00m \u001b[38;5;21mRZ\u001b[39m(phi):\n\u001b[0;32m---> 11\u001b[0m     out \u001b[38;5;241m=\u001b[39m expm(\u001b[38;5;241;43m-\u001b[39;49m\u001b[38;5;241;43m1\u001b[39;49m\u001b[43mj\u001b[49m\u001b[43m \u001b[49m\u001b[38;5;241;43m*\u001b[39;49m\u001b[43m \u001b[49m\u001b[43mphi\u001b[49m\u001b[38;5;241;43m/\u001b[39;49m\u001b[38;5;241;43m2\u001b[39;49m\u001b[43m \u001b[49m\u001b[38;5;241;43m*\u001b[39;49m\u001b[43m \u001b[49m\u001b[43mZ\u001b[49m)\n\u001b[1;32m     12\u001b[0m     \u001b[38;5;28;01mreturn\u001b[39;00m out\n",
      "\u001b[0;31mValueError\u001b[0m: operands could not be broadcast together with shapes (200,) (2,2) "
     ]
    }
   ],
   "source": [
    "circuit(phis, thetas)"
   ]
  },
  {
   "cell_type": "code",
   "execution_count": 30,
   "id": "c50609f3-0f72-4a21-b5a4-6b1015d0ceb8",
   "metadata": {},
   "outputs": [
    {
     "ename": "TypeError",
     "evalue": "only length-1 arrays can be converted to Python scalars",
     "output_type": "error",
     "traceback": [
      "\u001b[0;31m---------------------------------------------------------------------------\u001b[0m",
      "\u001b[0;31mTypeError\u001b[0m                                 Traceback (most recent call last)",
      "Cell \u001b[0;32mIn[30], line 1\u001b[0m\n\u001b[0;32m----> 1\u001b[0m \u001b[43mcircuit\u001b[49m\u001b[43m(\u001b[49m\u001b[43mP\u001b[49m\u001b[43m,\u001b[49m\u001b[43m \u001b[49m\u001b[43mT\u001b[49m\u001b[43m)\u001b[49m\n",
      "File \u001b[0;32m~/miniforge3/envs/sciqis/lib/python3.12/site-packages/numpy/lib/function_base.py:2372\u001b[0m, in \u001b[0;36mvectorize.__call__\u001b[0;34m(self, *args, **kwargs)\u001b[0m\n\u001b[1;32m   2369\u001b[0m     \u001b[38;5;28mself\u001b[39m\u001b[38;5;241m.\u001b[39m_init_stage_2(\u001b[38;5;241m*\u001b[39margs, \u001b[38;5;241m*\u001b[39m\u001b[38;5;241m*\u001b[39mkwargs)\n\u001b[1;32m   2370\u001b[0m     \u001b[38;5;28;01mreturn\u001b[39;00m \u001b[38;5;28mself\u001b[39m\n\u001b[0;32m-> 2372\u001b[0m \u001b[38;5;28;01mreturn\u001b[39;00m \u001b[38;5;28;43mself\u001b[39;49m\u001b[38;5;241;43m.\u001b[39;49m\u001b[43m_call_as_normal\u001b[49m\u001b[43m(\u001b[49m\u001b[38;5;241;43m*\u001b[39;49m\u001b[43margs\u001b[49m\u001b[43m,\u001b[49m\u001b[43m \u001b[49m\u001b[38;5;241;43m*\u001b[39;49m\u001b[38;5;241;43m*\u001b[39;49m\u001b[43mkwargs\u001b[49m\u001b[43m)\u001b[49m\n",
      "File \u001b[0;32m~/miniforge3/envs/sciqis/lib/python3.12/site-packages/numpy/lib/function_base.py:2365\u001b[0m, in \u001b[0;36mvectorize._call_as_normal\u001b[0;34m(self, *args, **kwargs)\u001b[0m\n\u001b[1;32m   2362\u001b[0m     vargs \u001b[38;5;241m=\u001b[39m [args[_i] \u001b[38;5;28;01mfor\u001b[39;00m _i \u001b[38;5;129;01min\u001b[39;00m inds]\n\u001b[1;32m   2363\u001b[0m     vargs\u001b[38;5;241m.\u001b[39mextend([kwargs[_n] \u001b[38;5;28;01mfor\u001b[39;00m _n \u001b[38;5;129;01min\u001b[39;00m names])\n\u001b[0;32m-> 2365\u001b[0m \u001b[38;5;28;01mreturn\u001b[39;00m \u001b[38;5;28;43mself\u001b[39;49m\u001b[38;5;241;43m.\u001b[39;49m\u001b[43m_vectorize_call\u001b[49m\u001b[43m(\u001b[49m\u001b[43mfunc\u001b[49m\u001b[38;5;241;43m=\u001b[39;49m\u001b[43mfunc\u001b[49m\u001b[43m,\u001b[49m\u001b[43m \u001b[49m\u001b[43margs\u001b[49m\u001b[38;5;241;43m=\u001b[39;49m\u001b[43mvargs\u001b[49m\u001b[43m)\u001b[49m\n",
      "File \u001b[0;32m~/miniforge3/envs/sciqis/lib/python3.12/site-packages/numpy/lib/function_base.py:2458\u001b[0m, in \u001b[0;36mvectorize._vectorize_call\u001b[0;34m(self, func, args)\u001b[0m\n\u001b[1;32m   2455\u001b[0m outputs \u001b[38;5;241m=\u001b[39m ufunc(\u001b[38;5;241m*\u001b[39minputs)\n\u001b[1;32m   2457\u001b[0m \u001b[38;5;28;01mif\u001b[39;00m ufunc\u001b[38;5;241m.\u001b[39mnout \u001b[38;5;241m==\u001b[39m \u001b[38;5;241m1\u001b[39m:\n\u001b[0;32m-> 2458\u001b[0m     res \u001b[38;5;241m=\u001b[39m \u001b[43masanyarray\u001b[49m\u001b[43m(\u001b[49m\u001b[43moutputs\u001b[49m\u001b[43m,\u001b[49m\u001b[43m \u001b[49m\u001b[43mdtype\u001b[49m\u001b[38;5;241;43m=\u001b[39;49m\u001b[43motypes\u001b[49m\u001b[43m[\u001b[49m\u001b[38;5;241;43m0\u001b[39;49m\u001b[43m]\u001b[49m\u001b[43m)\u001b[49m\n\u001b[1;32m   2459\u001b[0m \u001b[38;5;28;01melse\u001b[39;00m:\n\u001b[1;32m   2460\u001b[0m     res \u001b[38;5;241m=\u001b[39m \u001b[38;5;28mtuple\u001b[39m([asanyarray(x, dtype\u001b[38;5;241m=\u001b[39mt)\n\u001b[1;32m   2461\u001b[0m                  \u001b[38;5;28;01mfor\u001b[39;00m x, t \u001b[38;5;129;01min\u001b[39;00m \u001b[38;5;28mzip\u001b[39m(outputs, otypes)])\n",
      "\u001b[0;31mTypeError\u001b[0m: only length-1 arrays can be converted to Python scalars"
     ]
    }
   ],
   "source": [
    "circuit(P, T)"
   ]
  },
  {
   "cell_type": "code",
   "execution_count": 31,
   "id": "302ef71f-09cd-4729-979b-5432eff00d75",
   "metadata": {},
   "outputs": [],
   "source": [
    "def RX(phi):\n",
    "    phi = np.atleast_1d(phi)\n",
    "    phiX = phi[...,None,None] * X\n",
    "    out = expm(-1j * phiX)\n",
    "    return out\n",
    "\n",
    "def RZ(phi):\n",
    "    phi = np.atleast_1d(phi)\n",
    "    phiZ = phi[...,None,None] * Z\n",
    "    out = expm(-1j * phiZ)\n",
    "    return out\n",
    "\n",
    "def circuit2(phi, theta):\n",
    "    ket0 = np.array([1,0])\n",
    "    U = RZ(theta) @ RX(phi)\n",
    "    out = U @ ket0\n",
    "    return out"
   ]
  },
  {
   "cell_type": "code",
   "execution_count": 33,
   "id": "4b52ddc2-f442-4cac-bc0a-58dd962dabc8",
   "metadata": {},
   "outputs": [
    {
     "data": {
      "text/plain": [
       "(100, 200, 2)"
      ]
     },
     "execution_count": 33,
     "metadata": {},
     "output_type": "execute_result"
    }
   ],
   "source": [
    "circuit2(P, T).shape"
   ]
  },
  {
   "cell_type": "code",
   "execution_count": 34,
   "id": "c60ef405-c0ed-4637-ae9a-e111572bd6f5",
   "metadata": {},
   "outputs": [
    {
     "name": "stdout",
     "output_type": "stream",
     "text": [
      "1.34 s ± 15.5 ms per loop (mean ± std. dev. of 7 runs, 1 loop each)\n"
     ]
    }
   ],
   "source": [
    "%timeit circuit2(P, T)"
   ]
  },
  {
   "cell_type": "code",
   "execution_count": 48,
   "id": "f5c36956-6367-4b0c-adb8-5a64c81990ae",
   "metadata": {
    "collapsed": true,
    "jupyter": {
     "outputs_hidden": true
    }
   },
   "outputs": [
    {
     "name": "stdout",
     "output_type": "stream",
     "text": [
      " "
     ]
    },
    {
     "data": {
      "text/plain": [
       "         907047 function calls (907024 primitive calls) in 1.578 seconds\n",
       "\n",
       "   Ordered by: internal time\n",
       "\n",
       "   ncalls  tottime  percall  cumtime  percall filename:lineno(function)\n",
       "        1    0.793    0.793    1.000    1.000 {built-in method time.sleep}\n",
       "        1    0.196    0.196    1.419    1.419 2061639054.py:1(RX)\n",
       "        2    0.183    0.091    0.280    0.140 _matfuncs.py:213(expm)\n",
       "   108600    0.127    0.000    0.127    0.000 {method 'reduce' of 'numpy.ufunc' objects}\n",
       "   108600    0.081    0.000    0.221    0.000 fromnumeric.py:71(_wrapreduction)\n",
       "   108600    0.058    0.000    0.279    0.000 fromnumeric.py:2692(max)\n",
       "    40400    0.041    0.000    0.082    0.000 twodim_base.py:234(diag)\n",
       "   108601    0.013    0.000    0.013    0.000 {method 'items' of 'dict' objects}\n",
       "      4/1    0.012    0.003    0.000    0.000 {method 'poll' of 'select.epoll' objects}\n",
       "    20200    0.010    0.000    0.010    0.000 {method 'diagonal' of 'numpy.ndarray' objects}\n",
       "    20200    0.010    0.000    0.024    0.000 fromnumeric.py:1565(diagonal)\n",
       "   108600    0.009    0.000    0.009    0.000 fromnumeric.py:2687(_max_dispatcher)\n",
       "    40000    0.007    0.000    0.007    0.000 {built-in method builtins.any}\n",
       "        2    0.006    0.003    0.013    0.007 {method '__exit__' of 'sqlite3.Connection' objects}\n",
       "    20200    0.005    0.000    0.005    0.000 {built-in method numpy.zeros}\n",
       "    60602    0.005    0.000    0.005    0.000 {built-in method numpy.asanyarray}\n",
       "    60630    0.005    0.000    0.005    0.000 {built-in method builtins.len}\n",
       "      2/1    0.003    0.002    1.422    1.422 2061639054.py:13(circuit2)\n",
       "    40400    0.003    0.000    0.003    0.000 twodim_base.py:230(_diag_dispatcher)\n",
       "20352/20348    0.002    0.000    0.002    0.000 {built-in method builtins.isinstance}\n",
       "    20200    0.002    0.000    0.002    0.000 {built-in method builtins.abs}\n",
       "    20200    0.001    0.000    0.001    0.000 fromnumeric.py:1561(_diagonal_dispatcher)\n",
       "        2    0.001    0.001    0.003    0.002 iostream.py:157(_handle_event)\n",
       "       14    0.001    0.000    0.002    0.000 socket.py:626(send)\n",
       "        2    0.000    0.000    0.004    0.002 zmqstream.py:584(_handle_events)\n",
       "        2    0.000    0.000    0.000    0.000 {method 'recv' of '_socket.socket' objects}\n",
       "        2    0.000    0.000    0.002    0.001 socket.py:703(send_multipart)\n",
       "       72    0.000    0.000    0.000    0.000 enum.py:1544(_get_value)\n",
       "        1    0.000    0.000    0.000    0.000 {method 'execute' of 'sqlite3.Connection' objects}\n",
       "      2/1    0.000    0.000    1.577    1.577 {built-in method builtins.exec}\n",
       "       16    0.000    0.000    0.000    0.000 enum.py:1551(__or__)\n",
       "        1    0.000    0.000    0.000    0.000 {method 'disable' of '_lsprof.Profiler' objects}\n",
       "        5    0.000    0.000    0.000    0.000 attrsettr.py:66(_get_attr_opt)\n",
       "        5    0.000    0.000    0.034    0.007 base_events.py:1910(_run_once)\n",
       "        5    0.000    0.000    0.000    0.000 attrsettr.py:43(__getattr__)\n",
       "       31    0.000    0.000    0.000    0.000 enum.py:726(__call__)\n",
       "        2    0.000    0.000    0.000    0.000 socket.py:778(recv_multipart)\n",
       "        8    0.000    0.000    0.000    0.000 enum.py:1562(__and__)\n",
       "      7/4    0.000    0.000    0.004    0.001 {method 'run' of '_contextvars.Context' objects}\n",
       "        1    0.000    0.000    0.000    0.000 zmqstream.py:427(flush)\n",
       "        1    0.000    0.000    0.000    0.000 inspect.py:3123(_bind)\n",
       "      8/4    0.000    0.000    0.004    0.001 events.py:86(_run)\n",
       "       31    0.000    0.000    0.000    0.000 enum.py:1129(__new__)\n",
       "        1    0.000    0.000    0.000    0.000 kernelbase.py:302(poll_control_queue)\n",
       "        2    0.000    0.000    0.000    0.000 shape_base.py:23(atleast_1d)\n",
       "        6    0.000    0.000    0.000    0.000 typing.py:392(inner)\n",
       "        1    0.000    0.000    0.000    0.000 selector_events.py:129(_read_from_self)\n",
       "        1    0.000    0.000    0.000    0.000 poll.py:80(poll)\n",
       "      4/1    0.000    0.000    0.000    0.000 selectors.py:451(select)\n",
       "        1    0.000    0.000    0.000    0.000 {method 'send' of '_socket.socket' objects}\n",
       "        3    0.000    0.000    0.000    0.000 zmqstream.py:664(_rebuild_io_state)\n",
       "        1    0.000    0.000    0.018    0.018 history.py:55(only_when_enabled)\n",
       "        1    0.000    0.000    0.001    0.001 kernelbase.py:324(_flush)\n",
       "        5    0.000    0.000    0.000    0.000 {built-in method builtins.getattr}\n",
       "        4    0.000    0.000    0.000    0.000 base_events.py:814(_call_soon)\n",
       "        8    0.000    0.000    0.000    0.000 traitlets.py:676(__get__)\n",
       "        4    0.000    0.000    0.000    0.000 queue.py:97(empty)\n",
       "        5    0.000    0.000    0.000    0.000 <frozen importlib._bootstrap>:1390(_handle_fromlist)\n",
       "        8    0.000    0.000    0.000    0.000 traitlets.py:629(get)\n",
       "        1    0.000    0.000    0.000    0.000 {built-in method numpy.array}\n",
       "        1    0.000    0.000    0.000    0.000 queues.py:317(__put_internal)\n",
       "        8    0.000    0.000    0.000    0.000 {built-in method builtins.issubclass}\n",
       "        1    0.000    0.000    0.000    0.000 decorator.py:199(fix)\n",
       "        1    0.000    0.000    0.000    0.000 _base.py:537(set_result)\n",
       "        1    0.000    0.000    0.000    0.000 base_events.py:767(call_at)\n",
       "        2    0.000    0.000    0.000    0.000 numerictypes.py:357(issubdtype)\n",
       "        5    0.000    0.000    0.000    0.000 events.py:36(__init__)\n",
       "        1    0.000    0.000    0.000    0.000 queues.py:225(get)\n",
       "        1    0.000    0.000    0.000    0.000 queues.py:209(put_nowait)\n",
       "        3    0.000    0.000    0.000    0.000 zmqstream.py:687(_update_handler)\n",
       "        1    0.000    0.000    0.014    0.014 history.py:845(writeout_cache)\n",
       "        2    0.000    0.000    0.002    0.001 iostream.py:278(_really_send)\n",
       "        2    0.000    0.000    0.004    0.002 zmqstream.py:625(_handle_recv)\n",
       "        2    0.000    0.000    0.004    0.002 zmqstream.py:557(_run_callback)\n",
       "        1    0.000    0.000    0.000    0.000 threading.py:311(_acquire_restore)\n",
       "        1    0.000    0.000    0.000    0.000 queues.py:186(put)\n",
       "      2/1    0.000    0.000    1.530    1.530 <string>:1(<module>)\n",
       "        1    0.000    0.000    0.000    0.000 inspect.py:2939(apply_defaults)\n",
       "        4    0.000    0.000    0.000    0.000 {built-in method numpy.empty}\n",
       "        6    0.000    0.000    0.000    0.000 selector_events.py:750(_process_events)\n",
       "        9    0.000    0.000    0.000    0.000 base_events.py:734(time)\n",
       "        4    0.000    0.000    0.000    0.000 numerictypes.py:283(issubclass_)\n",
       "        1    0.000    0.000    0.000    0.000 concurrent.py:182(future_set_result_unless_cancelled)\n",
       "        2    0.000    0.000    0.002    0.001 iostream.py:276(<lambda>)\n",
       "        1    0.000    0.000    0.000    0.000 asyncio.py:225(add_callback)\n",
       "        1    0.000    0.000    0.000    0.000 iostream.py:127(_event_pipe_gc)\n",
       "        1    0.000    0.000    0.000    0.000 inspect.py:3262(bind)\n",
       "        2    0.000    0.000    0.000    0.000 queues.py:322(_consume_expired)\n",
       "        8    0.000    0.000    0.000    0.000 {built-in method builtins.max}\n",
       "        4    0.000    0.000    0.000    0.000 typing.py:1276(__hash__)\n",
       "        3    0.000    0.000    0.000    0.000 base_events.py:785(call_soon)\n",
       "        3    0.000    0.000    0.000    0.000 {method 'set_result' of '_asyncio.Future' objects}\n",
       "        2    0.000    0.000    0.001    0.000 ioloop.py:742(_run_callback)\n",
       "        1    0.000    0.000    0.000    0.000 inspect.py:2886(args)\n",
       "        3    0.000    0.000    0.000    0.000 threading.py:299(__enter__)\n",
       "        3    0.000    0.000    0.000    0.000 threading.py:302(__exit__)\n",
       "        1    0.000    0.000    0.004    0.004 asyncio.py:200(_handle_events)\n",
       "        1    0.000    0.000    0.000    0.000 traitlets.py:1527(_notify_observers)\n",
       "       10    0.000    0.000    0.000    0.000 {built-in method builtins.hasattr}\n",
       "        8    0.000    0.000    0.000    0.000 {method 'append' of 'list' objects}\n",
       "        2    0.000    0.000    0.000    0.000 base_events.py:1895(_add_callback)\n",
       "        1    0.000    0.000    0.013    0.013 history.py:833(_writeout_input_cache)\n",
       "        1    0.000    0.000    0.000    0.000 threading.py:424(notify_all)\n",
       "        1    0.000    0.000    0.000    0.000 zmqstream.py:468(update_flag)\n",
       "       11    0.000    0.000    0.000    0.000 {method 'popleft' of 'collections.deque' objects}\n",
       "        4    0.000    0.000    0.000    0.000 zmqstream.py:543(sending)\n",
       "        1    0.000    0.000    0.000    0.000 futures.py:394(_call_set_state)\n",
       "        2    0.000    0.000    0.000    0.000 tasks.py:653(sleep)\n",
       "        1    0.000    0.000    0.018    0.018 decorator.py:229(fun)\n",
       "        1    0.000    0.000    0.000    0.000 iostream.py:118(_run_event_pipe_gc)\n",
       "        9    0.000    0.000    0.000    0.000 {method '__exit__' of '_thread.lock' objects}\n",
       "        9    0.000    0.000    0.000    0.000 {built-in method time.monotonic}\n",
       "        1    0.000    0.000    0.000    0.000 queues.py:256(get_nowait)\n",
       "        2    0.000    0.000    0.000    0.000 traitlets.py:3631(set)\n",
       "        2    0.000    0.000    0.000    0.000 iostream.py:213(_is_master_process)\n",
       "       10    0.000    0.000    0.000    0.000 {method 'append' of 'collections.deque' objects}\n",
       "        4    0.000    0.000    0.000    0.000 {built-in method builtins.min}\n",
       "        2    0.000    0.000    0.000    0.000 typing.py:1483(__subclasscheck__)\n",
       "        1    0.000    0.000    0.000    0.000 base_events.py:838(call_soon_threadsafe)\n",
       "        6    0.000    0.000    0.000    0.000 {built-in method builtins.next}\n",
       "        2    0.000    0.000    0.000    0.000 typing.py:1212(__instancecheck__)\n",
       "        2    0.000    0.000    0.000    0.000 {method '__enter__' of '_thread.lock' objects}\n",
       "        2    0.000    0.000    0.000    0.000 <frozen abc>:121(__subclasscheck__)\n",
       "        2    0.000    0.000    0.000    0.000 traitlets.py:718(_validate)\n",
       "        3    0.000    0.000    0.000    0.000 {method 'items' of 'mappingproxy' objects}\n",
       "        4    0.000    0.000    0.000    0.000 queue.py:209(_qsize)\n",
       "       28    0.000    0.000    0.000    0.000 typing.py:2173(cast)\n",
       "        1    0.000    0.000    0.000    0.000 threading.py:627(clear)\n",
       "        2    0.000    0.000    0.000    0.000 traitlets.py:689(set)\n",
       "        1    0.000    0.000    0.000    0.000 _base.py:337(_invoke_callbacks)\n",
       "        2    0.000    0.000    0.000    0.000 traitlets.py:727(_cross_validate)\n",
       "        5    0.000    0.000    0.000    0.000 {method 'upper' of 'str' objects}\n",
       "        1    0.000    0.000    0.000    0.000 inspect.py:2909(kwargs)\n",
       "        3    0.000    0.000    0.000    0.000 threading.py:1220(is_alive)\n",
       "        1    0.000    0.000    0.108    0.108 2061639054.py:7(RZ)\n",
       "        1    0.000    0.000    0.000    0.000 selector_events.py:141(_write_to_self)\n",
       "        1    0.000    0.000    0.000    0.000 events.py:155(cancel)\n",
       "      6/3    0.000    0.000    0.000    0.000 {method 'acquire' of '_thread.lock' objects}\n",
       "        2    0.000    0.000    0.000    0.000 iostream.py:216(_check_mp_mode)\n",
       "        1    0.000    0.000    0.000    0.000 threading.py:394(notify)\n",
       "        2    0.000    0.000    0.000    0.000 traitlets.py:3474(validate)\n",
       "        1    0.000    0.000    0.000    0.000 traitlets.py:1512(_notify_trait)\n",
       "        1    0.000    0.000    0.000    0.000 base_events.py:743(call_later)\n",
       "        2    0.000    0.000    0.000    0.000 {built-in method posix.getppid}\n",
       "        3    0.000    0.000    0.000    0.000 {built-in method _contextvars.copy_context}\n",
       "        5    0.000    0.000    0.000    0.000 zmqstream.py:539(receiving)\n",
       "        2    0.000    0.000    0.000    0.000 {built-in method _abc._abc_subclasscheck}\n",
       "        2    0.000    0.000    0.000    0.000 {built-in method posix.getpid}\n",
       "        2    0.000    0.000    0.000    0.000 selectors.py:275(_key_from_fd)\n",
       "       10    0.000    0.000    0.000    0.000 inspect.py:2798(kind)\n",
       "        2    0.000    0.000    0.000    0.000 traitlets.py:2304(validate)\n",
       "        2    0.000    0.000    0.000    0.000 traitlets.py:3624(validate_elements)\n",
       "        1    0.000    0.000    0.000    0.000 poll.py:31(register)\n",
       "        2    0.000    0.000    0.000    0.000 traitlets.py:708(__set__)\n",
       "        4    0.000    0.000    0.000    0.000 {built-in method builtins.hash}\n",
       "        1    0.000    0.000    0.000    0.000 base_events.py:447(create_future)\n",
       "        1    0.000    0.000    0.000    0.000 history.py:839(_writeout_output_cache)\n",
       "        9    0.000    0.000    0.000    0.000 base_events.py:2005(get_debug)\n",
       "        1    0.000    0.000    0.000    0.000 traitlets.py:1523(notify_change)\n",
       "        3    0.000    0.000    0.000    0.000 {method 'cancelled' of '_asyncio.Future' objects}\n",
       "        1    0.000    0.000    0.000    0.000 {method '__enter__' of '_thread.RLock' objects}\n",
       "        2    0.000    0.000    0.000    0.000 {built-in method numpy.asarray}\n",
       "        2    0.000    0.000    0.000    0.000 {built-in method _asyncio.get_running_loop}\n",
       "        5    0.000    0.000    0.000    0.000 base_events.py:539(_check_closed)\n",
       "        1    0.000    0.000    0.000    0.000 unix_events.py:81(_process_self_data)\n",
       "        2    0.000    0.000    0.000    0.000 {built-in method math.ceil}\n",
       "        3    0.000    0.000    0.000    0.000 threading.py:1153(_wait_for_tstate_lock)\n",
       "        1    0.000    0.000    0.000    0.000 {method 'values' of 'mappingproxy' objects}\n",
       "        1    0.000    0.000    0.000    0.000 queues.py:173(qsize)\n",
       "        1    0.000    0.000    0.000    0.000 queues.py:312(_put)\n",
       "        1    0.000    0.000    0.000    0.000 futures.py:311(_set_result_unless_cancelled)\n",
       "        2    0.000    0.000    0.000    0.000 {built-in method builtins.iter}\n",
       "        1    0.000    0.000    0.000    0.000 queues.py:309(_get)\n",
       "        1    0.000    0.000    0.000    0.000 threading.py:308(_release_save)\n",
       "        1    0.000    0.000    0.000    0.000 queues.py:177(empty)\n",
       "        1    0.000    0.000    0.000    0.000 {method 'done' of '_asyncio.Future' objects}\n",
       "        1    0.000    0.000    0.000    0.000 zmqstream.py:695(<lambda>)\n",
       "        4    0.000    0.000    0.000    0.000 inspect.py:3079(parameters)\n",
       "        1    0.000    0.000    0.000    0.000 events.py:111(__init__)\n",
       "        4    0.000    0.000    0.000    0.000 inspect.py:2786(name)\n",
       "        1    0.000    0.000    0.000    0.000 zmqstream.py:660(_check_closed)\n",
       "        1    0.000    0.000    0.000    0.000 {built-in method _thread.allocate_lock}\n",
       "        4    0.000    0.000    0.000    0.000 {method 'get' of 'dict' objects}\n",
       "        2    0.000    0.000    0.000    0.000 traitlets.py:3486(validate_elements)\n",
       "        2    0.000    0.000    0.000    0.000 iostream.py:255(closed)\n",
       "        1    0.000    0.000    0.000    0.000 {method '__exit__' of '_thread.RLock' objects}\n",
       "        1    0.000    0.000    0.000    0.000 {built-in method _heapq.heappop}\n",
       "        2    0.000    0.000    0.000    0.000 shape_base.py:19(_atleast_1d_dispatcher)\n",
       "        1    0.000    0.000    0.000    0.000 locks.py:224(clear)\n",
       "        1    0.000    0.000    0.000    0.000 queues.py:59(_set_timeout)\n",
       "        1    0.000    0.000    0.000    0.000 {method '_is_owned' of '_thread.RLock' objects}\n",
       "        3    0.000    0.000    0.000    0.000 threading.py:601(is_set)\n",
       "        1    0.000    0.000    0.000    0.000 base_events.py:720(is_closed)\n",
       "        1    0.000    0.000    0.000    0.000 events.py:72(cancel)\n",
       "        1    0.000    0.000    0.000    0.000 inspect.py:2878(__init__)\n",
       "        2    0.000    0.000    0.000    0.000 {method 'extend' of 'list' objects}\n",
       "        1    0.000    0.000    0.000    0.000 threading.py:314(_is_owned)\n",
       "        1    0.000    0.000    0.000    0.000 {built-in method _heapq.heappush}\n",
       "        1    0.000    0.000    0.000    0.000 {method 'release' of '_thread.lock' objects}\n",
       "        1    0.000    0.000    0.000    0.000 base_events.py:1905(_timer_handle_cancelled)"
      ]
     },
     "metadata": {},
     "output_type": "display_data"
    }
   ],
   "source": [
    "%prun circuit2(P,T)"
   ]
  },
  {
   "cell_type": "code",
   "execution_count": 35,
   "id": "07b2f195-43f4-426f-b6a1-3da32e403feb",
   "metadata": {},
   "outputs": [
    {
     "data": {
      "text/plain": [
       "Timer unit: 1e-09 s\n",
       "\n",
       "Total time: 1.6086 s\n",
       "File: /run/user/1000/app/org.jupyter.JupyterLab/ipykernel_294/2061639054.py\n",
       "Function: circuit2 at line 13\n",
       "\n",
       "Line #      Hits         Time  Per Hit   % Time  Line Contents\n",
       "==============================================================\n",
       "    13                                           def circuit2(phi, theta):\n",
       "    14         1      33849.0  33849.0      0.0      ket0 = np.array([1,0])\n",
       "    15         1 1607938840.0    2e+09    100.0      U = RZ(theta) @ RX(phi)\n",
       "    16         1     625263.0 625263.0      0.0      out = U @ ket0\n",
       "    17                                               return out"
      ]
     },
     "metadata": {},
     "output_type": "display_data"
    }
   ],
   "source": [
    "%lprun -f circuit2 circuit2(P, T)"
   ]
  },
  {
   "cell_type": "code",
   "execution_count": 36,
   "id": "598d0748-b84d-429f-a0d3-cd9ed873d735",
   "metadata": {},
   "outputs": [
    {
     "data": {
      "text/plain": [
       "Timer unit: 1e-09 s\n",
       "\n",
       "Total time: 0.134644 s\n",
       "File: /run/user/1000/app/org.jupyter.JupyterLab/ipykernel_294/2061639054.py\n",
       "Function: RZ at line 7\n",
       "\n",
       "Line #      Hits         Time  Per Hit   % Time  Line Contents\n",
       "==============================================================\n",
       "     7                                           def RZ(phi):\n",
       "     8         1      26104.0  26104.0      0.0      phi = np.atleast_1d(phi)\n",
       "     9         1    1267674.0    1e+06      0.9      phiZ = phi[...,None,None] * Z\n",
       "    10         1  133349803.0    1e+08     99.0      out = expm(-1j * phiZ)\n",
       "    11                                               return out"
      ]
     },
     "metadata": {},
     "output_type": "display_data"
    }
   ],
   "source": [
    "%lprun -f RZ circuit2(P, T)"
   ]
  },
  {
   "cell_type": "code",
   "execution_count": 37,
   "id": "4005ae9e-9dee-42b1-9771-0a60b65dcb77",
   "metadata": {},
   "outputs": [
    {
     "data": {
      "text/plain": [
       "(100, 200, 2, 2)"
      ]
     },
     "execution_count": 37,
     "metadata": {},
     "output_type": "execute_result"
    }
   ],
   "source": [
    "RZ(T).shape"
   ]
  },
  {
   "cell_type": "code",
   "execution_count": 38,
   "id": "a558b7e0-481e-482b-896e-14deb9f1d13d",
   "metadata": {},
   "outputs": [
    {
     "data": {
      "text/plain": [
       "((200, 2, 2), (100, 2, 2))"
      ]
     },
     "execution_count": 38,
     "metadata": {},
     "output_type": "execute_result"
    }
   ],
   "source": [
    "RZ(thetas).shape, RX(phis).shape"
   ]
  },
  {
   "cell_type": "code",
   "execution_count": 42,
   "id": "7c88f964-2658-423b-aa6a-f6849f46eff5",
   "metadata": {},
   "outputs": [],
   "source": [
    "RZRX1 = RZ(T) @ RX(P)\n",
    "RZRX2 = np.einsum('ikl,jlm', RZ(thetas), RX(phis))"
   ]
  },
  {
   "cell_type": "code",
   "execution_count": 43,
   "id": "3a2f0cf3-3630-4d10-9522-2ea7b277536e",
   "metadata": {},
   "outputs": [
    {
     "data": {
      "text/plain": [
       "True"
      ]
     },
     "execution_count": 43,
     "metadata": {},
     "output_type": "execute_result"
    }
   ],
   "source": [
    "np.allclose(RZRX1, RZRX2)"
   ]
  },
  {
   "cell_type": "code",
   "execution_count": 44,
   "id": "9c184462-c718-46e5-938d-73bd805d0d41",
   "metadata": {},
   "outputs": [
    {
     "data": {
      "text/plain": [
       "(200, 100, 2, 2)"
      ]
     },
     "execution_count": 44,
     "metadata": {},
     "output_type": "execute_result"
    }
   ],
   "source": [
    "RZRX2.shape"
   ]
  },
  {
   "cell_type": "code",
   "execution_count": 45,
   "id": "76b6e47e-1b28-4180-8772-aecd4a957906",
   "metadata": {},
   "outputs": [],
   "source": [
    "def circuit3(phi, theta):\n",
    "    ket0 = np.array([1,0])\n",
    "    U = np.einsum('ikl,jlm', RZ(theta), RX(phi))\n",
    "    out = U @ ket0\n",
    "    return out"
   ]
  },
  {
   "cell_type": "code",
   "execution_count": 46,
   "id": "2d275ca7-8812-4066-aa25-0f12be860f4d",
   "metadata": {},
   "outputs": [],
   "source": [
    "out2 = circuit3(phis, thetas)"
   ]
  },
  {
   "cell_type": "code",
   "execution_count": 47,
   "id": "d1a1e80c-da0a-4483-968b-83056cb92726",
   "metadata": {},
   "outputs": [
    {
     "name": "stdout",
     "output_type": "stream",
     "text": [
      "1.34 s ± 11.5 ms per loop (mean ± std. dev. of 7 runs, 1 loop each)\n",
      "10.4 ms ± 61 μs per loop (mean ± std. dev. of 7 runs, 100 loops each)\n"
     ]
    }
   ],
   "source": [
    "%timeit circuit2(P, T)\n",
    "%timeit circuit3(phis, thetas)"
   ]
  },
  {
   "cell_type": "code",
   "execution_count": null,
   "id": "abe1d975-e41c-4737-aa26-a33d1bf07860",
   "metadata": {},
   "outputs": [],
   "source": [
    "%lprun -f circuit2 circuit2(P, T)"
   ]
  },
  {
   "cell_type": "code",
   "execution_count": null,
   "id": "9ee9906a-83cd-4c44-b5fe-19fb9d9f51ef",
   "metadata": {},
   "outputs": [],
   "source": [
    "%lprun -f circuit3 circuit3(phis, thetas)"
   ]
  },
  {
   "cell_type": "markdown",
   "id": "7c2693ce-59df-4f70-bcfd-49665cc183ec",
   "metadata": {},
   "source": [
    "### Refactoring"
   ]
  },
  {
   "cell_type": "code",
   "execution_count": null,
   "id": "d0d7e28a-4639-4afd-a8ac-a9326ea8328e",
   "metadata": {},
   "outputs": [],
   "source": [
    "def RX2(phi):\n",
    "    phi = np.atleast_1d(phi)\n",
    "    phiX = phi[...,None,None] * X\n",
    "    out = np.array([[np.cos(phi/2), -1j*np.sin(phi/2)], [-1j*np.sin(phi/2), np.cos(phi/2)]])\n",
    "    return out\n",
    "\n",
    "def RZ(phi):\n",
    "    phi = np.atleast_1d(phi)\n",
    "    phiZ = phi[...,None,None] * Z\n",
    "    out = expm(-1j * phiZ)\n",
    "    return out\n",
    "\n",
    "def circuit4(phi, theta):\n",
    "    ket0 = np.array([1,0])\n",
    "    U = RZ(theta) @ RX(phi)\n",
    "    out = U @ ket0\n",
    "    return out"
   ]
  },
  {
   "cell_type": "code",
   "execution_count": null,
   "id": "17065e1a-9d0b-435f-9640-c8b9e7fe53ef",
   "metadata": {},
   "outputs": [],
   "source": [
    "np.allclose(np.transpose(RX2(phis), (2,0,1)), RX(phis))"
   ]
  },
  {
   "cell_type": "code",
   "execution_count": null,
   "id": "6c87749c-53e9-4468-b2d5-1d049b3c8f03",
   "metadata": {},
   "outputs": [],
   "source": [
    "np.transpose(RX2(phis), (2,0,1)) -  RX(phis)"
   ]
  },
  {
   "cell_type": "markdown",
   "id": "c5cbcd70-9f6f-4ebe-82de-d83f96895c52",
   "metadata": {},
   "source": [
    "## Sampling the circuit"
   ]
  },
  {
   "cell_type": "code",
   "execution_count": null,
   "id": "c92ea719-2da2-445b-aed9-1181cc4cbd15",
   "metadata": {},
   "outputs": [],
   "source": [
    "(abs(circuit2(phis, thetas)[:,:,0])**2).mean()"
   ]
  },
  {
   "cell_type": "code",
   "execution_count": null,
   "id": "a60c60ca-7c2a-4ea9-a5d4-e2700d7e884a",
   "metadata": {},
   "outputs": [],
   "source": [
    "rng = np.random.default_rng()\n",
    "out_states = circuit2(phis, thetas)\n",
    "probs = abs(out_states)**2"
   ]
  },
  {
   "cell_type": "code",
   "execution_count": null,
   "id": "054bbb56-27b6-48eb-8303-f706b8061177",
   "metadata": {},
   "outputs": [],
   "source": [
    "probs[...,0]+probs[...,1]"
   ]
  },
  {
   "cell_type": "code",
   "execution_count": null,
   "id": "2aaa383b-ff41-4e50-9fe4-0941993bc7db",
   "metadata": {},
   "outputs": [],
   "source": [
    "pre_samples = rng.uniform(0, 1, size=out_states.shape[:2])\n",
    "measurements = (pre_samples < probs[...,1]).astype(int)"
   ]
  },
  {
   "cell_type": "code",
   "execution_count": null,
   "id": "4c120074-0ef5-40db-91c0-156c0b7b5491",
   "metadata": {},
   "outputs": [],
   "source": []
  }
 ],
 "metadata": {
  "kernelspec": {
   "display_name": "Python 3 (ipykernel)",
   "language": "python",
   "name": "python3"
  },
  "language_info": {
   "codemirror_mode": {
    "name": "ipython",
    "version": 3
   },
   "file_extension": ".py",
   "mimetype": "text/x-python",
   "name": "python",
   "nbconvert_exporter": "python",
   "pygments_lexer": "ipython3",
   "version": "3.12.4"
  }
 },
 "nbformat": 4,
 "nbformat_minor": 5
}
