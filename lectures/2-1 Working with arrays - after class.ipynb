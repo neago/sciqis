{
 "cells": [
  {
   "attachments": {
    "d0d7627d-a636-4714-a48f-a5b75acded87.png": {
     "image/png": "[encoded data removed]"
    }
   },
   "cell_type": "markdown",
   "id": "827ae838-2d56-42bf-a7b6-bd1ff8c82df0",
   "metadata": {
    "editable": true,
    "slideshow": {
     "slide_type": "slide"
    },
    "tags": []
   },
   "source": [
    "[10387 - Scientific Computing in Quantum Information Science](https://kurser.dtu.dk/course/10387)\n",
    "\n",
    "# Working with arrays\n",
    "\n",
    "![image.png](attachment:d0d7627d-a636-4714-a48f-a5b75acded87.png)\n",
    "\n",
    "Most scientific computational work in Python relies on NumPy.\n",
    "\n",
    "> NumPy (pronounced /ˈnʌmpaɪ/ NUM-py) is a library for the Python programming language, adding support for large, multi-dimensional arrays and matrices, along with a large collection of high-level mathematical functions to operate on these arrays.\n",
    "\n",
    "> NumPy targets the CPython reference implementation of Python, which is a non-optimizing bytecode interpreter. Mathematical algorithms written for this version of Python often run much slower than compiled equivalents due to the absence of compiler optimization. NumPy addresses the slowness problem partly by providing multidimensional arrays and functions and operators that operate efficiently on arrays.\n",
    "\n",
    "> Internally, both MATLAB and NumPy rely on BLAS and LAPACK for efficient linear algebra computations.\n",
    "\n",
    "> The core functionality of NumPy is its \"ndarray\", for n-dimensional array, data structure. These arrays are strided views on memory. In contrast to Python's built-in list data structure, these arrays are homogeneously typed: all elements of a single array must be of the same type.\n",
    "\n",
    "[source: Wikipedia](https://www.wikiwand.com/en/NumPy)"
   ]
  },
  {
   "cell_type": "code",
   "execution_count": null,
   "id": "137a774b-9f92-4417-adcc-8e97c6f7a505",
   "metadata": {
    "editable": true,
    "slideshow": {
     "slide_type": "subslide"
    },
    "tags": []
   },
   "outputs": [],
   "source": [
    "import numpy as np"
   ]
  },
  {
   "cell_type": "markdown",
   "id": "7e45316b-ad65-47c2-a9a7-7ecb037e84a4",
   "metadata": {
    "editable": true,
    "slideshow": {
     "slide_type": "subslide"
    },
    "tags": []
   },
   "source": [
    "## Arrays vs. lists"
   ]
  },
  {
   "cell_type": "code",
   "execution_count": 172,
   "id": "63d7b595-220d-4cff-9737-6f5bdcde1de9",
   "metadata": {
    "editable": true,
    "slideshow": {
     "slide_type": ""
    },
    "tags": []
   },
   "outputs": [
    {
     "data": {
      "text/plain": [
       "(list, numpy.ndarray)"
      ]
     },
     "execution_count": 172,
     "metadata": {},
     "output_type": "execute_result"
    }
   ],
   "source": [
    "L = list(range(5))\n",
    "A = np.arange(5)\n",
    "type(L), type(A)"
   ]
  },
  {
   "cell_type": "code",
   "execution_count": 173,
   "id": "a4c732c0-cf94-4482-9d28-baf913a17917",
   "metadata": {},
   "outputs": [
    {
     "data": {
      "text/plain": [
       "104"
      ]
     },
     "execution_count": 173,
     "metadata": {},
     "output_type": "execute_result"
    }
   ],
   "source": [
    "from sys import getsizeof\n",
    "getsizeof(L)"
   ]
  },
  {
   "cell_type": "code",
   "execution_count": 176,
   "id": "1fd80ecd-cd2f-4395-aa46-5c8f1de326bb",
   "metadata": {},
   "outputs": [
    {
     "data": {
      "text/plain": [
       "numpy.int64"
      ]
     },
     "execution_count": 176,
     "metadata": {},
     "output_type": "execute_result"
    }
   ],
   "source": [
    "type(A[0])"
   ]
  },
  {
   "cell_type": "code",
   "execution_count": 177,
   "id": "feb41678-a75a-40f9-926a-bcb4c3a0de8f",
   "metadata": {},
   "outputs": [
    {
     "data": {
      "text/plain": [
       "152"
      ]
     },
     "execution_count": 177,
     "metadata": {},
     "output_type": "execute_result"
    }
   ],
   "source": [
    "getsizeof(A)"
   ]
  },
  {
   "cell_type": "code",
   "execution_count": 178,
   "id": "830ff69d-fe73-49b2-b702-b3a3cee5ebc5",
   "metadata": {
    "editable": true,
    "slideshow": {
     "slide_type": "fragment"
    },
    "tags": []
   },
   "outputs": [
    {
     "data": {
      "text/plain": [
       "[0, 1, 2, 3, 4, 0, 1, 2, 3, 4]"
      ]
     },
     "execution_count": 178,
     "metadata": {},
     "output_type": "execute_result"
    }
   ],
   "source": [
    "2*L"
   ]
  },
  {
   "cell_type": "code",
   "execution_count": 179,
   "id": "d3dcf54f-0d73-4738-99dd-25ed20a9b8c0",
   "metadata": {
    "editable": true,
    "slideshow": {
     "slide_type": ""
    },
    "tags": []
   },
   "outputs": [
    {
     "data": {
      "text/plain": [
       "array([0, 2, 4, 6, 8])"
      ]
     },
     "execution_count": 179,
     "metadata": {},
     "output_type": "execute_result"
    }
   ],
   "source": [
    "2*A"
   ]
  },
  {
   "cell_type": "code",
   "execution_count": 181,
   "id": "46b17e75-adc3-496b-a2d0-9f0c0b0034b4",
   "metadata": {
    "editable": true,
    "slideshow": {
     "slide_type": "slide"
    },
    "tags": []
   },
   "outputs": [
    {
     "ename": "TypeError",
     "evalue": "unsupported operand type(s) for ** or pow(): 'list' and 'int'",
     "output_type": "error",
     "traceback": [
      "\u001b[0;31m---------------------------------------------------------------------------\u001b[0m",
      "\u001b[0;31mTypeError\u001b[0m                                 Traceback (most recent call last)",
      "Cell \u001b[0;32mIn[181], line 1\u001b[0m\n\u001b[0;32m----> 1\u001b[0m \u001b[43mL\u001b[49m\u001b[38;5;241;43m*\u001b[39;49m\u001b[38;5;241;43m*\u001b[39;49m\u001b[38;5;241;43m2\u001b[39;49m \u001b[38;5;241m-\u001b[39m \u001b[38;5;241m1\u001b[39m\n",
      "\u001b[0;31mTypeError\u001b[0m: unsupported operand type(s) for ** or pow(): 'list' and 'int'"
     ]
    }
   ],
   "source": [
    "L**2 - 1"
   ]
  },
  {
   "cell_type": "code",
   "execution_count": 182,
   "id": "f868d5e8-9c0a-4ff0-8545-462105a1d24e",
   "metadata": {
    "editable": true,
    "slideshow": {
     "slide_type": "fragment"
    },
    "tags": []
   },
   "outputs": [
    {
     "data": {
      "text/plain": [
       "[-1, 0, 3, 8, 15]"
      ]
     },
     "execution_count": 182,
     "metadata": {},
     "output_type": "execute_result"
    }
   ],
   "source": [
    "[l**2 - 1 for l in L]"
   ]
  },
  {
   "cell_type": "code",
   "execution_count": 184,
   "id": "93845595-ac70-4190-b891-e09d5edd0f4a",
   "metadata": {
    "editable": true,
    "slideshow": {
     "slide_type": "fragment"
    },
    "tags": []
   },
   "outputs": [
    {
     "data": {
      "text/plain": [
       "array([-1,  0,  3,  8, 15])"
      ]
     },
     "execution_count": 184,
     "metadata": {},
     "output_type": "execute_result"
    }
   ],
   "source": [
    "A**2 - 1"
   ]
  },
  {
   "cell_type": "markdown",
   "id": "e29cbbf3-5f4d-4016-8a81-6b80431ed876",
   "metadata": {
    "editable": true,
    "slideshow": {
     "slide_type": "slide"
    },
    "tags": []
   },
   "source": [
    "### Speed"
   ]
  },
  {
   "cell_type": "code",
   "execution_count": 185,
   "id": "0a5bad25-550b-40ed-a113-973735ddce96",
   "metadata": {
    "editable": true,
    "slideshow": {
     "slide_type": ""
    },
    "tags": []
   },
   "outputs": [
    {
     "name": "stdout",
     "output_type": "stream",
     "text": [
      "184 ns ± 1.79 ns per loop (mean ± std. dev. of 7 runs, 10,000,000 loops each)\n",
      "1.1 μs ± 13.3 ns per loop (mean ± std. dev. of 7 runs, 1,000,000 loops each)\n"
     ]
    }
   ],
   "source": [
    "%timeit [l**2 - 1 for l in L]\n",
    "%timeit A**2 - 1"
   ]
  },
  {
   "cell_type": "code",
   "execution_count": 186,
   "id": "ecd44519-da1a-45a8-8378-80894816bd99",
   "metadata": {
    "editable": true,
    "slideshow": {
     "slide_type": ""
    },
    "tags": []
   },
   "outputs": [
    {
     "name": "stdout",
     "output_type": "stream",
     "text": [
      "54.4 ms ± 1.4 ms per loop (mean ± std. dev. of 7 runs, 10 loops each)\n",
      "1.88 ms ± 159 μs per loop (mean ± std. dev. of 7 runs, 100 loops each)\n"
     ]
    }
   ],
   "source": [
    "L = list(range(1000_000))\n",
    "A = np.arange(1000_000.)\n",
    "%timeit [l**2 - 1 for l in L]\n",
    "%timeit A**2 - 1"
   ]
  },
  {
   "cell_type": "code",
   "execution_count": 187,
   "id": "efc2e81a-18df-41fa-aa25-f9899b6f7561",
   "metadata": {
    "editable": true,
    "slideshow": {
     "slide_type": ""
    },
    "tags": []
   },
   "outputs": [
    {
     "name": "stdout",
     "output_type": "stream",
     "text": [
      "800 ms ± 13.2 ms per loop (mean ± std. dev. of 7 runs, 1 loop each)\n",
      "8.96 ms ± 56.9 μs per loop (mean ± std. dev. of 7 runs, 100 loops each)\n"
     ]
    }
   ],
   "source": [
    "%timeit [np.sin(l) for l in L]\n",
    "%timeit np.sin(A)"
   ]
  },
  {
   "cell_type": "markdown",
   "id": "5b66da5d-22a2-454b-bde7-c6595afcfdce",
   "metadata": {
    "editable": true,
    "slideshow": {
     "slide_type": "slide"
    },
    "tags": []
   },
   "source": [
    "### Only one data type\n",
    "\n",
    "[Data types — NumPy v2.0 Manual](https://numpy.org/doc/stable/user/basics.types.html)"
   ]
  },
  {
   "cell_type": "code",
   "execution_count": 188,
   "id": "ddf9dc68-ca25-4d4b-98a6-9f22f13218ed",
   "metadata": {
    "editable": true,
    "slideshow": {
     "slide_type": "slide"
    },
    "tags": []
   },
   "outputs": [
    {
     "data": {
      "text/plain": [
       "[int, float, str, bool, numpy.ndarray]"
      ]
     },
     "execution_count": 188,
     "metadata": {},
     "output_type": "execute_result"
    }
   ],
   "source": [
    "L = [1, 1., 'one', True, np.array(1)]\n",
    "[type(l) for l in L]"
   ]
  },
  {
   "cell_type": "code",
   "execution_count": 189,
   "id": "a5f9291a-3780-4785-9681-2279b3849ebb",
   "metadata": {},
   "outputs": [
    {
     "data": {
      "text/plain": [
       "[2, 2.0, 'oneone', 2, 2]"
      ]
     },
     "execution_count": 189,
     "metadata": {},
     "output_type": "execute_result"
    }
   ],
   "source": [
    "[2*l for l in L]"
   ]
  },
  {
   "cell_type": "code",
   "execution_count": 190,
   "id": "2f5f003f-aae2-449e-a1c3-7e386d80c2ae",
   "metadata": {},
   "outputs": [
    {
     "data": {
      "text/plain": [
       "array(['1', '1.0', 'one', 'True', '1'], dtype='<U32')"
      ]
     },
     "execution_count": 190,
     "metadata": {},
     "output_type": "execute_result"
    }
   ],
   "source": [
    "A = np.array(L)\n",
    "A"
   ]
  },
  {
   "cell_type": "code",
   "execution_count": 191,
   "id": "08250478-c4e4-434c-9ee2-1a77cd234314",
   "metadata": {
    "editable": true,
    "slideshow": {
     "slide_type": ""
    },
    "tags": []
   },
   "outputs": [
    {
     "ename": "UFuncTypeError",
     "evalue": "ufunc 'multiply' did not contain a loop with signature matching types (dtype('int64'), dtype('<U32')) -> None",
     "output_type": "error",
     "traceback": [
      "\u001b[0;31m---------------------------------------------------------------------------\u001b[0m",
      "\u001b[0;31mUFuncTypeError\u001b[0m                            Traceback (most recent call last)",
      "Cell \u001b[0;32mIn[191], line 1\u001b[0m\n\u001b[0;32m----> 1\u001b[0m \u001b[38;5;241;43m2\u001b[39;49m\u001b[38;5;241;43m*\u001b[39;49m\u001b[43mA\u001b[49m\n",
      "\u001b[0;31mUFuncTypeError\u001b[0m: ufunc 'multiply' did not contain a loop with signature matching types (dtype('int64'), dtype('<U32')) -> None"
     ]
    }
   ],
   "source": [
    "2*A"
   ]
  },
  {
   "cell_type": "code",
   "execution_count": 192,
   "id": "dda2bb96-59cc-4b72-b330-d5a4637ccd11",
   "metadata": {},
   "outputs": [
    {
     "data": {
      "text/plain": [
       "['11', '1.01.0', 'oneone', 'TrueTrue', '11']"
      ]
     },
     "execution_count": 192,
     "metadata": {},
     "output_type": "execute_result"
    }
   ],
   "source": [
    "[2*a for a in A]"
   ]
  },
  {
   "cell_type": "code",
   "execution_count": 195,
   "id": "9f4ad934-eeef-4558-bb70-cb547d0359f4",
   "metadata": {},
   "outputs": [
    {
     "data": {
      "text/plain": [
       "dtype('<U32')"
      ]
     },
     "execution_count": 195,
     "metadata": {},
     "output_type": "execute_result"
    }
   ],
   "source": [
    "A.dtype"
   ]
  },
  {
   "cell_type": "code",
   "execution_count": 199,
   "id": "4dd7635c-5b6b-4e0b-b862-5fbd180da881",
   "metadata": {},
   "outputs": [
    {
     "data": {
      "text/plain": [
       "dtype('complex128')"
      ]
     },
     "execution_count": 199,
     "metadata": {},
     "output_type": "execute_result"
    }
   ],
   "source": [
    "B = np.arange(4)*1j\n",
    "C = np.arange(4.)\n",
    "(B+C).dtype"
   ]
  },
  {
   "cell_type": "code",
   "execution_count": 200,
   "id": "93c2dd31-5886-4061-abce-5d4b43209cab",
   "metadata": {
    "editable": true,
    "slideshow": {
     "slide_type": "subslide"
    },
    "tags": []
   },
   "outputs": [],
   "source": [
    "Aint = np.arange(5)\n",
    "Afloat = np.arange(5.)\n",
    "Acomplex = np.arange(5.).astype(complex)"
   ]
  },
  {
   "cell_type": "code",
   "execution_count": 201,
   "id": "d378256b-cc17-452a-9b2f-708c924e20e4",
   "metadata": {
    "editable": true,
    "slideshow": {
     "slide_type": ""
    },
    "tags": []
   },
   "outputs": [
    {
     "data": {
      "text/plain": [
       "(array([0, 1, 2, 3, 4]),\n",
       " array([0., 1., 2., 3., 4.]),\n",
       " array([0.+0.j, 1.+0.j, 2.+0.j, 3.+0.j, 4.+0.j]))"
      ]
     },
     "execution_count": 201,
     "metadata": {},
     "output_type": "execute_result"
    }
   ],
   "source": [
    "Aint, Afloat, Acomplex"
   ]
  },
  {
   "cell_type": "code",
   "execution_count": 202,
   "id": "9d1c8a15-c8f5-4106-8e92-48e07c590494",
   "metadata": {},
   "outputs": [
    {
     "data": {
      "text/plain": [
       "(dtype('int64'), dtype('float64'), dtype('complex128'))"
      ]
     },
     "execution_count": 202,
     "metadata": {},
     "output_type": "execute_result"
    }
   ],
   "source": [
    "Aint.dtype, Afloat.dtype, Acomplex.dtype"
   ]
  },
  {
   "cell_type": "code",
   "execution_count": 203,
   "id": "4b56554d-1810-4af0-b2eb-99a743ca7108",
   "metadata": {},
   "outputs": [
    {
     "data": {
      "text/plain": [
       "array([ 125,  126,  127, -128, -127], dtype=int8)"
      ]
     },
     "execution_count": 203,
     "metadata": {},
     "output_type": "execute_result"
    }
   ],
   "source": [
    "(125 + Aint).astype(np.int8)"
   ]
  },
  {
   "cell_type": "code",
   "execution_count": 204,
   "id": "c3980d64-39d8-49d9-8477-4c5a2b26a8ee",
   "metadata": {},
   "outputs": [
    {
     "data": {
      "text/plain": [
       "array([0., 2., 4., 6., 8.])"
      ]
     },
     "execution_count": 204,
     "metadata": {},
     "output_type": "execute_result"
    }
   ],
   "source": [
    "Aint + Afloat"
   ]
  },
  {
   "cell_type": "code",
   "execution_count": 205,
   "id": "9fbb71fb-eaeb-45a7-8f9f-b95d4f52272e",
   "metadata": {},
   "outputs": [
    {
     "data": {
      "text/plain": [
       "array([0.+0.j, 2.+0.j, 4.+0.j, 6.+0.j, 8.+0.j])"
      ]
     },
     "execution_count": 205,
     "metadata": {},
     "output_type": "execute_result"
    }
   ],
   "source": [
    "Afloat + Acomplex"
   ]
  },
  {
   "cell_type": "code",
   "execution_count": 206,
   "id": "ee8ce74d-5d2b-4557-9390-1a2fdeff35b8",
   "metadata": {},
   "outputs": [
    {
     "data": {
      "text/plain": [
       "(array([0.8, 1.8, 2.8, 3.8, 4.8]), array([0, 1, 2, 3, 4]))"
      ]
     },
     "execution_count": 206,
     "metadata": {},
     "output_type": "execute_result"
    }
   ],
   "source": [
    "Afloat + .8, \\\n",
    "(Afloat + .8).astype(int)"
   ]
  },
  {
   "cell_type": "code",
   "execution_count": 208,
   "id": "4dcc0186-33cf-48d6-88cf-101eb0d68c58",
   "metadata": {},
   "outputs": [
    {
     "name": "stderr",
     "output_type": "stream",
     "text": [
      "/run/user/1000/app/org.jupyter.JupyterLab/ipykernel_260/1686574025.py:2: ComplexWarning: Casting complex values to real discards the imaginary part\n",
      "  (Acomplex + 1j).astype(int)\n"
     ]
    },
    {
     "data": {
      "text/plain": [
       "(array([0.+1.j, 1.+1.j, 2.+1.j, 3.+1.j, 4.+1.j]), array([0, 1, 2, 3, 4]))"
      ]
     },
     "execution_count": 208,
     "metadata": {},
     "output_type": "execute_result"
    }
   ],
   "source": [
    "Acomplex + 1j, \\\n",
    "(Acomplex + 1j).astype(int)"
   ]
  },
  {
   "cell_type": "markdown",
   "id": "c982f1a6-a1af-4d35-8c47-95f0f851b3f9",
   "metadata": {
    "editable": true,
    "slideshow": {
     "slide_type": "slide"
    },
    "tags": []
   },
   "source": [
    "### Fixed size"
   ]
  },
  {
   "cell_type": "code",
   "execution_count": 209,
   "id": "331b424b-ee14-44aa-9f75-456c04369fe5",
   "metadata": {},
   "outputs": [
    {
     "data": {
      "text/plain": [
       "[3]"
      ]
     },
     "execution_count": 209,
     "metadata": {},
     "output_type": "execute_result"
    }
   ],
   "source": [
    "L = []\n",
    "L.append(3)\n",
    "L"
   ]
  },
  {
   "cell_type": "code",
   "execution_count": 210,
   "id": "45fd860c-33e3-4c6c-81e8-1d02f4486672",
   "metadata": {},
   "outputs": [
    {
     "ename": "AttributeError",
     "evalue": "'numpy.ndarray' object has no attribute 'append'",
     "output_type": "error",
     "traceback": [
      "\u001b[0;31m---------------------------------------------------------------------------\u001b[0m",
      "\u001b[0;31mAttributeError\u001b[0m                            Traceback (most recent call last)",
      "Cell \u001b[0;32mIn[210], line 2\u001b[0m\n\u001b[1;32m      1\u001b[0m A \u001b[38;5;241m=\u001b[39m np\u001b[38;5;241m.\u001b[39marray([])\n\u001b[0;32m----> 2\u001b[0m \u001b[43mA\u001b[49m\u001b[38;5;241;43m.\u001b[39;49m\u001b[43mappend\u001b[49m(\u001b[38;5;241m3\u001b[39m)\n",
      "\u001b[0;31mAttributeError\u001b[0m: 'numpy.ndarray' object has no attribute 'append'"
     ]
    }
   ],
   "source": [
    "A = np.array([])\n",
    "A.append(3)"
   ]
  },
  {
   "cell_type": "code",
   "execution_count": 213,
   "id": "043d8c88-e63f-4186-9472-0a2edbb17dc5",
   "metadata": {},
   "outputs": [],
   "source": [
    "A = np.append(A, 3)"
   ]
  },
  {
   "cell_type": "code",
   "execution_count": 214,
   "id": "a2836475-1718-4efd-af19-f828fbfeac93",
   "metadata": {},
   "outputs": [
    {
     "data": {
      "text/plain": [
       "array([3.])"
      ]
     },
     "execution_count": 214,
     "metadata": {},
     "output_type": "execute_result"
    }
   ],
   "source": [
    "A"
   ]
  },
  {
   "cell_type": "code",
   "execution_count": 216,
   "id": "f96079cf-ef0a-48b6-8d3d-a8a039e6e4ee",
   "metadata": {},
   "outputs": [
    {
     "data": {
      "text/plain": [
       "array([5., 3.])"
      ]
     },
     "execution_count": 216,
     "metadata": {},
     "output_type": "execute_result"
    }
   ],
   "source": [
    "np.insert(A, 0,5)"
   ]
  },
  {
   "cell_type": "code",
   "execution_count": 217,
   "id": "06f3ccd4-b8d0-46b6-8f92-51a5041ff209",
   "metadata": {},
   "outputs": [
    {
     "data": {
      "text/plain": [
       "array([3.])"
      ]
     },
     "execution_count": 217,
     "metadata": {},
     "output_type": "execute_result"
    }
   ],
   "source": [
    "A"
   ]
  },
  {
   "cell_type": "code",
   "execution_count": 218,
   "id": "22cba9a9-d9b8-486e-a16b-c835f2b0bb2d",
   "metadata": {},
   "outputs": [
    {
     "data": {
      "text/plain": [
       "array([[1, 2, 3],\n",
       "       [4, 5, 6]])"
      ]
     },
     "execution_count": 218,
     "metadata": {},
     "output_type": "execute_result"
    }
   ],
   "source": [
    "np.array([[1,2,3], [4,5,6]])"
   ]
  },
  {
   "cell_type": "code",
   "execution_count": 219,
   "id": "17de8e87-af05-4fa7-94ae-19efaea8f5ba",
   "metadata": {},
   "outputs": [
    {
     "ename": "ValueError",
     "evalue": "setting an array element with a sequence. The requested array has an inhomogeneous shape after 1 dimensions. The detected shape was (2,) + inhomogeneous part.",
     "output_type": "error",
     "traceback": [
      "\u001b[0;31m---------------------------------------------------------------------------\u001b[0m",
      "\u001b[0;31mValueError\u001b[0m                                Traceback (most recent call last)",
      "Cell \u001b[0;32mIn[219], line 1\u001b[0m\n\u001b[0;32m----> 1\u001b[0m \u001b[43mnp\u001b[49m\u001b[38;5;241;43m.\u001b[39;49m\u001b[43marray\u001b[49m\u001b[43m(\u001b[49m\u001b[43m[\u001b[49m\u001b[43m[\u001b[49m\u001b[38;5;241;43m1\u001b[39;49m\u001b[43m,\u001b[49m\u001b[38;5;241;43m2\u001b[39;49m\u001b[43m]\u001b[49m\u001b[43m,\u001b[49m\u001b[43m \u001b[49m\u001b[43m[\u001b[49m\u001b[38;5;241;43m4\u001b[39;49m\u001b[43m,\u001b[49m\u001b[38;5;241;43m5\u001b[39;49m\u001b[43m,\u001b[49m\u001b[38;5;241;43m6\u001b[39;49m\u001b[43m]\u001b[49m\u001b[43m]\u001b[49m\u001b[43m)\u001b[49m\n",
      "\u001b[0;31mValueError\u001b[0m: setting an array element with a sequence. The requested array has an inhomogeneous shape after 1 dimensions. The detected shape was (2,) + inhomogeneous part."
     ]
    }
   ],
   "source": [
    "np.array([[1,2], [4,5,6]])"
   ]
  },
  {
   "cell_type": "markdown",
   "id": "5cc5ebb6-20b1-4a18-bac8-ac598ac3cd94",
   "metadata": {
    "editable": true,
    "slideshow": {
     "slide_type": "slide"
    },
    "tags": []
   },
   "source": [
    "### Enhanced indexing"
   ]
  },
  {
   "cell_type": "code",
   "execution_count": 220,
   "id": "5a437742-78a7-4a7c-a08f-f2a47cac752a",
   "metadata": {
    "editable": true,
    "slideshow": {
     "slide_type": ""
    },
    "tags": []
   },
   "outputs": [
    {
     "data": {
      "text/plain": [
       "[[0, 10, 20, 30, 40, 50, 60, 70, 80, 90],\n",
       " [1, 11, 21, 31, 41, 51, 61, 71, 81, 91],\n",
       " [2, 12, 22, 32, 42, 52, 62, 72, 82, 92],\n",
       " [3, 13, 23, 33, 43, 53, 63, 73, 83, 93],\n",
       " [4, 14, 24, 34, 44, 54, 64, 74, 84, 94]]"
      ]
     },
     "execution_count": 220,
     "metadata": {},
     "output_type": "execute_result"
    }
   ],
   "source": [
    "L = [[i + 10*j for j in range(10)] for i in range(5)]\n",
    "L"
   ]
  },
  {
   "cell_type": "code",
   "execution_count": 225,
   "id": "2c164fd6-2e38-4467-ac0b-6439b146bddd",
   "metadata": {},
   "outputs": [
    {
     "ename": "TypeError",
     "evalue": "list indices must be integers or slices, not tuple",
     "output_type": "error",
     "traceback": [
      "\u001b[0;31m---------------------------------------------------------------------------\u001b[0m",
      "\u001b[0;31mTypeError\u001b[0m                                 Traceback (most recent call last)",
      "Cell \u001b[0;32mIn[225], line 1\u001b[0m\n\u001b[0;32m----> 1\u001b[0m \u001b[43mL\u001b[49m\u001b[43m[\u001b[49m\u001b[38;5;241;43m2\u001b[39;49m\u001b[43m:\u001b[49m\u001b[38;5;241;43m4\u001b[39;49m\u001b[43m,\u001b[49m\u001b[43m:\u001b[49m\u001b[38;5;241;43m2\u001b[39;49m\u001b[43m]\u001b[49m\n",
      "\u001b[0;31mTypeError\u001b[0m: list indices must be integers or slices, not tuple"
     ]
    }
   ],
   "source": [
    "L[2:4,:2]"
   ]
  },
  {
   "cell_type": "code",
   "execution_count": 226,
   "id": "e8c5b303-5951-484a-9240-7e992db7ff0f",
   "metadata": {},
   "outputs": [
    {
     "data": {
      "text/plain": [
       "array([[ 2, 12, 22, 32],\n",
       "       [ 3, 13, 23, 33]])"
      ]
     },
     "execution_count": 226,
     "metadata": {},
     "output_type": "execute_result"
    }
   ],
   "source": [
    "A = np.array(L)\n",
    "A[2:4, :4]"
   ]
  },
  {
   "cell_type": "markdown",
   "id": "7fb54b62-e970-4a14-a755-7d48a2caa440",
   "metadata": {
    "editable": true,
    "slideshow": {
     "slide_type": "slide"
    },
    "tags": []
   },
   "source": [
    "## Array indexing\n",
    "\n",
    "[Indexing on ndarrays — NumPy v2.0 Manual](https://numpy.org/doc/stable/user/basics.indexing.html)\n",
    "\n",
    "[Indexing routines — NumPy v2.0 Manual](https://numpy.org/doc/stable/reference/routines.indexing.html#)"
   ]
  },
  {
   "cell_type": "code",
   "execution_count": 227,
   "id": "b29f4728-2212-4e7e-891b-a6273d19cce4",
   "metadata": {},
   "outputs": [
    {
     "data": {
      "text/plain": [
       "array([[ 1,  2,  3,  4,  5,  6],\n",
       "       [ 7,  8,  9, 10, 11, 12],\n",
       "       [13, 14, 15, 16, 17, 18],\n",
       "       [19, 20, 21, 22, 23, 24]])"
      ]
     },
     "execution_count": 227,
     "metadata": {},
     "output_type": "execute_result"
    }
   ],
   "source": [
    "A = np.arange(1,25).reshape(4,6)\n",
    "A"
   ]
  },
  {
   "cell_type": "code",
   "execution_count": 228,
   "id": "59a7286f-0e0b-4acb-b0d0-6d8a5055736b",
   "metadata": {},
   "outputs": [
    {
     "data": {
      "text/plain": [
       "array([13, 14, 15, 16, 17, 18])"
      ]
     },
     "execution_count": 228,
     "metadata": {},
     "output_type": "execute_result"
    }
   ],
   "source": [
    "A[2]"
   ]
  },
  {
   "cell_type": "code",
   "execution_count": 230,
   "id": "7c646e09-6b0d-44ea-a930-053df44b0ae5",
   "metadata": {},
   "outputs": [
    {
     "data": {
      "text/plain": [
       "(4,)"
      ]
     },
     "execution_count": 230,
     "metadata": {},
     "output_type": "execute_result"
    }
   ],
   "source": [
    "A[:,2].shape"
   ]
  },
  {
   "cell_type": "code",
   "execution_count": 231,
   "id": "a49a5a05-d004-4285-87c1-86182dc2a04b",
   "metadata": {},
   "outputs": [
    {
     "data": {
      "text/plain": [
       "array([4, 5, 6])"
      ]
     },
     "execution_count": 231,
     "metadata": {},
     "output_type": "execute_result"
    }
   ],
   "source": [
    "A[0,3:]"
   ]
  },
  {
   "cell_type": "code",
   "execution_count": 232,
   "id": "1f26c72d-87b4-4cb6-ae38-a95a7b9ddc1b",
   "metadata": {},
   "outputs": [
    {
     "data": {
      "text/plain": [
       "array([5, 6])"
      ]
     },
     "execution_count": 232,
     "metadata": {},
     "output_type": "execute_result"
    }
   ],
   "source": [
    "A[0,-2:]"
   ]
  },
  {
   "cell_type": "code",
   "execution_count": 233,
   "id": "a9a4b68b-cd53-4269-82fb-ed15cb6854be",
   "metadata": {},
   "outputs": [
    {
     "data": {
      "text/plain": [
       "array([2, 4, 6])"
      ]
     },
     "execution_count": 233,
     "metadata": {},
     "output_type": "execute_result"
    }
   ],
   "source": [
    "A[0,1::2]"
   ]
  },
  {
   "cell_type": "code",
   "execution_count": 236,
   "id": "df564ddb-5440-492e-b021-bb46010bfd9b",
   "metadata": {},
   "outputs": [
    {
     "data": {
      "text/plain": [
       "array([6, 4, 2])"
      ]
     },
     "execution_count": 236,
     "metadata": {},
     "output_type": "execute_result"
    }
   ],
   "source": [
    "A[0,::-2]"
   ]
  },
  {
   "cell_type": "code",
   "execution_count": 241,
   "id": "0aa2e31c-60b8-4573-b623-70bd99be2a30",
   "metadata": {
    "editable": true,
    "slideshow": {
     "slide_type": "subslide"
    },
    "tags": []
   },
   "outputs": [
    {
     "data": {
      "text/plain": [
       "array([[False, False, False, False, False, False],\n",
       "       [False, False,  True,  True,  True,  True],\n",
       "       [ True,  True,  True,  True, False, False],\n",
       "       [False, False, False, False, False, False]])"
      ]
     },
     "execution_count": 241,
     "metadata": {},
     "output_type": "execute_result"
    }
   ],
   "source": [
    "test_ix = (A>8) & (A<=16)\n",
    "test_ix"
   ]
  },
  {
   "cell_type": "code",
   "execution_count": 243,
   "id": "b7e07f37-cc03-4764-b9c6-8e52752ba5fa",
   "metadata": {},
   "outputs": [
    {
     "data": {
      "text/plain": [
       "100"
      ]
     },
     "execution_count": 243,
     "metadata": {},
     "output_type": "execute_result"
    }
   ],
   "source": [
    "A[test_ix].sum()"
   ]
  },
  {
   "cell_type": "code",
   "execution_count": 245,
   "id": "3bd56409-2659-4c0f-a499-66c7caa61a72",
   "metadata": {},
   "outputs": [
    {
     "data": {
      "text/plain": [
       "array([3.        , 3.16227766, 3.31662479, 3.46410162, 3.60555128,\n",
       "       3.74165739, 3.87298335, 4.        ])"
      ]
     },
     "execution_count": 245,
     "metadata": {},
     "output_type": "execute_result"
    }
   ],
   "source": [
    "np.sqrt(A)[test_ix]"
   ]
  },
  {
   "cell_type": "code",
   "execution_count": 246,
   "id": "1ee19164-c547-4a7b-b90a-149ea517810e",
   "metadata": {
    "editable": true,
    "slideshow": {
     "slide_type": "subslide"
    },
    "tags": []
   },
   "outputs": [
    {
     "data": {
      "text/plain": [
       "array([[[ 1,  2,  3],\n",
       "        [ 4,  5,  6]],\n",
       "\n",
       "       [[ 7,  8,  9],\n",
       "        [10, 11, 12]],\n",
       "\n",
       "       [[13, 14, 15],\n",
       "        [16, 17, 18]],\n",
       "\n",
       "       [[19, 20, 21],\n",
       "        [22, 23, 24]]])"
      ]
     },
     "execution_count": 246,
     "metadata": {},
     "output_type": "execute_result"
    }
   ],
   "source": [
    "B = A.reshape(4,2,3)\n",
    "B"
   ]
  },
  {
   "cell_type": "code",
   "execution_count": 250,
   "id": "ea08692d-2b3e-406d-8885-7b97de3920b8",
   "metadata": {},
   "outputs": [
    {
     "data": {
      "text/plain": [
       "array([1, 4])"
      ]
     },
     "execution_count": 250,
     "metadata": {},
     "output_type": "execute_result"
    }
   ],
   "source": [
    "B[0, ...,0]"
   ]
  },
  {
   "cell_type": "code",
   "execution_count": 251,
   "id": "dd788ef2-d147-43ca-93d2-1511174b863c",
   "metadata": {},
   "outputs": [
    {
     "data": {
      "text/plain": [
       "array([[ 1,  4],\n",
       "       [ 7, 10],\n",
       "       [13, 16],\n",
       "       [19, 22]])"
      ]
     },
     "execution_count": 251,
     "metadata": {},
     "output_type": "execute_result"
    }
   ],
   "source": [
    "B[..., 0]"
   ]
  },
  {
   "cell_type": "code",
   "execution_count": 252,
   "id": "b971f220-3bee-4d42-a56a-b3682e74433c",
   "metadata": {
    "editable": true,
    "slideshow": {
     "slide_type": "subslide"
    },
    "tags": []
   },
   "outputs": [
    {
     "data": {
      "text/plain": [
       "array([[ 1,  2,  3,  4,  5,  6],\n",
       "       [ 7,  8,  9, 10, 11, 12],\n",
       "       [13, 14, 15, 16, 17, 18],\n",
       "       [19, 20, 21, 22, 23, 24]])"
      ]
     },
     "execution_count": 252,
     "metadata": {},
     "output_type": "execute_result"
    }
   ],
   "source": [
    "A"
   ]
  },
  {
   "cell_type": "code",
   "execution_count": 253,
   "id": "d3311ca8-f9de-497d-85f9-65355291711c",
   "metadata": {},
   "outputs": [
    {
     "data": {
      "text/plain": [
       "(4, 6)"
      ]
     },
     "execution_count": 253,
     "metadata": {},
     "output_type": "execute_result"
    }
   ],
   "source": [
    "A.shape"
   ]
  },
  {
   "cell_type": "code",
   "execution_count": 254,
   "id": "c1d3cfbb-8d7d-48f3-8882-e2e2d80d108d",
   "metadata": {
    "editable": true,
    "slideshow": {
     "slide_type": ""
    },
    "tags": []
   },
   "outputs": [
    {
     "data": {
      "text/plain": [
       "(4, 1, 6)"
      ]
     },
     "execution_count": 254,
     "metadata": {},
     "output_type": "execute_result"
    }
   ],
   "source": [
    "A[:,None,:].shape  # equivalent to A[:,:,np.newaxis]"
   ]
  },
  {
   "cell_type": "code",
   "execution_count": 256,
   "id": "88936ae8-083a-40bc-a137-310ebd0f4db7",
   "metadata": {},
   "outputs": [
    {
     "data": {
      "text/plain": [
       "array([[[ 1,  2,  3,  4,  5,  6]],\n",
       "\n",
       "       [[ 7,  8,  9, 10, 11, 12]],\n",
       "\n",
       "       [[13, 14, 15, 16, 17, 18]],\n",
       "\n",
       "       [[19, 20, 21, 22, 23, 24]]])"
      ]
     },
     "execution_count": 256,
     "metadata": {},
     "output_type": "execute_result"
    }
   ],
   "source": [
    "A[:,None,:]"
   ]
  },
  {
   "cell_type": "code",
   "execution_count": 264,
   "id": "6b016c7e-2654-47ba-813f-a8c687093880",
   "metadata": {},
   "outputs": [],
   "source": [
    "l = [[1,3],[0,2,5]]"
   ]
  },
  {
   "cell_type": "code",
   "execution_count": 265,
   "id": "ea4577e0-bc79-4acc-b6f2-cf2a4b93b82c",
   "metadata": {
    "editable": true,
    "slideshow": {
     "slide_type": ""
    },
    "tags": []
   },
   "outputs": [
    {
     "ename": "IndexError",
     "evalue": "shape mismatch: indexing arrays could not be broadcast together with shapes (2,) (3,) ",
     "output_type": "error",
     "traceback": [
      "\u001b[0;31m---------------------------------------------------------------------------\u001b[0m",
      "\u001b[0;31mIndexError\u001b[0m                                Traceback (most recent call last)",
      "Cell \u001b[0;32mIn[265], line 1\u001b[0m\n\u001b[0;32m----> 1\u001b[0m \u001b[43mA\u001b[49m\u001b[43m[\u001b[49m\u001b[38;5;241;43m*\u001b[39;49m\u001b[43ml\u001b[49m\u001b[43m]\u001b[49m\n",
      "\u001b[0;31mIndexError\u001b[0m: shape mismatch: indexing arrays could not be broadcast together with shapes (2,) (3,) "
     ]
    }
   ],
   "source": [
    "A[*l]"
   ]
  },
  {
   "cell_type": "code",
   "execution_count": 259,
   "id": "345627a3-ccae-4f06-aca6-27bd58332aa4",
   "metadata": {
    "editable": true,
    "slideshow": {
     "slide_type": "subslide"
    },
    "tags": []
   },
   "outputs": [
    {
     "data": {
      "text/plain": [
       "(array([[1],\n",
       "        [3]]),\n",
       " array([[0, 2, 5]]))"
      ]
     },
     "execution_count": 259,
     "metadata": {},
     "output_type": "execute_result"
    }
   ],
   "source": [
    "ix = np.ix_([1,3], [0,2,5])\n",
    "ix"
   ]
  },
  {
   "cell_type": "code",
   "execution_count": 260,
   "id": "69aac8ca-00bb-4636-a973-f1039815a2ae",
   "metadata": {},
   "outputs": [
    {
     "data": {
      "text/plain": [
       "array([[ 7,  9, 12],\n",
       "       [19, 21, 24]])"
      ]
     },
     "execution_count": 260,
     "metadata": {},
     "output_type": "execute_result"
    }
   ],
   "source": [
    "A[ix]"
   ]
  },
  {
   "cell_type": "code",
   "execution_count": 279,
   "id": "abec39d3-234a-498d-a9fa-a4fc600158c4",
   "metadata": {},
   "outputs": [
    {
     "data": {
      "text/plain": [
       "array([[1.],\n",
       "       [3.]])"
      ]
     },
     "execution_count": 279,
     "metadata": {},
     "output_type": "execute_result"
    }
   ],
   "source": [
    "U"
   ]
  },
  {
   "cell_type": "code",
   "execution_count": 280,
   "id": "6fda7685-c85a-4c31-8814-09ae569ef3c4",
   "metadata": {},
   "outputs": [
    {
     "data": {
      "text/plain": [
       "array([[1., 1., 1., 1., 1., 1.],\n",
       "       [3., 3., 3., 3., 3., 3.]])"
      ]
     },
     "execution_count": 280,
     "metadata": {},
     "output_type": "execute_result"
    }
   ],
   "source": [
    "X"
   ]
  },
  {
   "cell_type": "code",
   "execution_count": 278,
   "id": "e731f995-26cb-445a-a895-36430214117c",
   "metadata": {},
   "outputs": [
    {
     "data": {
      "text/plain": [
       "(128, 128)"
      ]
     },
     "execution_count": 278,
     "metadata": {},
     "output_type": "execute_result"
    }
   ],
   "source": [
    "getsizeof(U), getsizeof(X)"
   ]
  },
  {
   "cell_type": "code",
   "execution_count": 275,
   "id": "96b668c1-3a0a-4026-90c3-e8b299385e39",
   "metadata": {},
   "outputs": [],
   "source": [
    "U, V = np.ogrid[1:3:2j,0:4:6j]"
   ]
  },
  {
   "cell_type": "code",
   "execution_count": 281,
   "id": "3df54eae-2819-48fb-a575-5698fd2ad8c8",
   "metadata": {},
   "outputs": [
    {
     "data": {
      "text/plain": [
       "array([[[1. , 1. , 1. , 1. , 1. , 1. ],\n",
       "        [3. , 3. , 3. , 3. , 3. , 3. ]],\n",
       "\n",
       "       [[0. , 0.8, 1.6, 2.4, 3.2, 4. ],\n",
       "        [0. , 0.8, 1.6, 2.4, 3.2, 4. ]]])"
      ]
     },
     "execution_count": 281,
     "metadata": {},
     "output_type": "execute_result"
    }
   ],
   "source": [
    "X,Y = np.mgrid[1:3:2j,0:4:6j]\n",
    "np.mgrid[1:3:2j,0:4:6j]"
   ]
  },
  {
   "cell_type": "code",
   "execution_count": 327,
   "id": "5308b961-3bf6-41ba-b9bc-474c4d36b81f",
   "metadata": {},
   "outputs": [
    {
     "data": {
      "text/plain": [
       "[array([[1, 1, 1, 1, 1, 1],\n",
       "        [3, 3, 3, 3, 3, 3]]),\n",
       " array([[0. , 0.8, 1.6, 2.4, 3.2, 4. ],\n",
       "        [0. , 0.8, 1.6, 2.4, 3.2, 4. ]])]"
      ]
     },
     "execution_count": 327,
     "metadata": {},
     "output_type": "execute_result"
    }
   ],
   "source": [
    "np.meshgrid([1,3],np.linspace(0,4,6), indexing='ij')"
   ]
  },
  {
   "cell_type": "code",
   "execution_count": 328,
   "id": "39a62c07-4beb-44ff-a621-acde03ee4dfd",
   "metadata": {},
   "outputs": [
    {
     "data": {
      "text/plain": [
       "[array([[1, 3],\n",
       "        [1, 3],\n",
       "        [1, 3],\n",
       "        [1, 3],\n",
       "        [1, 3],\n",
       "        [1, 3]]),\n",
       " array([[0. , 0. ],\n",
       "        [0.8, 0.8],\n",
       "        [1.6, 1.6],\n",
       "        [2.4, 2.4],\n",
       "        [3.2, 3.2],\n",
       "        [4. , 4. ]])]"
      ]
     },
     "execution_count": 328,
     "metadata": {},
     "output_type": "execute_result"
    }
   ],
   "source": [
    "np.meshgrid([1,3],np.linspace(0,4,6), indexing='xy')"
   ]
  },
  {
   "cell_type": "code",
   "execution_count": 273,
   "id": "47759feb-c01a-460c-a9ea-c8732ede54a9",
   "metadata": {},
   "outputs": [],
   "source": [
    "def func(x,y):\n",
    "    return x+y"
   ]
  },
  {
   "cell_type": "code",
   "execution_count": 277,
   "id": "43c407a0-abc1-4ce1-86bc-6379413fe075",
   "metadata": {},
   "outputs": [
    {
     "data": {
      "text/plain": [
       "array([[1. , 1.8, 2.6, 3.4, 4.2, 5. ],\n",
       "       [3. , 3.8, 4.6, 5.4, 6.2, 7. ]])"
      ]
     },
     "execution_count": 277,
     "metadata": {},
     "output_type": "execute_result"
    }
   ],
   "source": [
    "func(U,V)"
   ]
  },
  {
   "cell_type": "code",
   "execution_count": 282,
   "id": "c29eba89-80e4-4e52-be99-d8f51e1d5816",
   "metadata": {
    "editable": true,
    "slideshow": {
     "slide_type": "subslide"
    },
    "tags": []
   },
   "outputs": [
    {
     "data": {
      "text/plain": [
       "array([[ 1,  2,  3,  4,  5,  6],\n",
       "       [ 7,  8,  9, 10, 11, 12],\n",
       "       [ 0,  0,  0,  0,  0,  0],\n",
       "       [19, 20, 21, 22, 23, 24]])"
      ]
     },
     "execution_count": 282,
     "metadata": {},
     "output_type": "execute_result"
    }
   ],
   "source": [
    "A[2] = 0\n",
    "A"
   ]
  },
  {
   "cell_type": "code",
   "execution_count": 283,
   "id": "0027b344-437e-44f0-b2d2-754ee9a0d129",
   "metadata": {},
   "outputs": [
    {
     "data": {
      "text/plain": [
       "array([[  1,   2, 100,   4,   5,   6],\n",
       "       [  7,   8,   9,  10,  11,  12],\n",
       "       [  0,   0,   0,   0,   0,   0],\n",
       "       [ 19,  20,  21,  22,  23,  24]])"
      ]
     },
     "execution_count": 283,
     "metadata": {},
     "output_type": "execute_result"
    }
   ],
   "source": [
    "A[0,2] = 100.5\n",
    "A"
   ]
  },
  {
   "cell_type": "markdown",
   "id": "41ad4b34-7856-42fe-949c-8bf7a3437889",
   "metadata": {
    "editable": true,
    "slideshow": {
     "slide_type": "slide"
    },
    "tags": []
   },
   "source": [
    "## Broadcasting\n",
    "\n",
    "[Broadcasting — NumPy v2.0 Manual](https://numpy.org/doc/stable/user/basics.broadcasting.html)"
   ]
  },
  {
   "attachments": {
    "2942ece8-d445-4f96-9e1c-a0acc5bc1247.png": {
     "image/png": "[encoded data removed]"
    }
   },
   "cell_type": "markdown",
   "id": "47376d4e-b0b9-40e0-8cde-4500e747c9d2",
   "metadata": {},
   "source": [
    "> When operating on two arrays, NumPy compares their shapes element-wise. It starts with the trailing (i.e. rightmost) dimension and works its way left. Two dimensions are compatible when\n",
    "> * they are equal, or\n",
    "> * one of them is 1.\n",
    "\n",
    "![image.png](attachment:2942ece8-d445-4f96-9e1c-a0acc5bc1247.png)\n",
    "\n",
    "![image](https://numpy.org/doc/stable/_images/broadcasting_2.png)"
   ]
  },
  {
   "cell_type": "code",
   "execution_count": null,
   "id": "4633f36e-f70e-4755-ba5f-a631a13dce36",
   "metadata": {
    "editable": true,
    "slideshow": {
     "slide_type": "subslide"
    },
    "tags": []
   },
   "outputs": [],
   "source": [
    "B = np.arange(1,5)\n",
    "B * 10"
   ]
  },
  {
   "cell_type": "code",
   "execution_count": null,
   "id": "a6e67264-040e-413e-8578-6b82c9f7e671",
   "metadata": {},
   "outputs": [],
   "source": [
    "A = np.linspace(0, .7, 8).reshape(2,4)\n",
    "A"
   ]
  },
  {
   "cell_type": "code",
   "execution_count": null,
   "id": "51613ae8-33e0-4947-9e27-0e22b4f7e350",
   "metadata": {},
   "outputs": [],
   "source": [
    "A + B"
   ]
  },
  {
   "attachments": {
    "25bfd2b4-fb31-4f43-80ee-1ab5474e0a47.png": {
     "image/png": "[encoded data removed]"
    },
    "73b6faeb-7ab2-48bf-820c-f97a260465c0.png": {
     "image/png": "[encoded data removed]"
    }
   },
   "cell_type": "markdown",
   "id": "ac7ec1d4-2456-478c-9441-12e4a7fcff08",
   "metadata": {
    "editable": true,
    "slideshow": {
     "slide_type": "subslide"
    },
    "tags": []
   },
   "source": [
    "![image.png](attachment:73b6faeb-7ab2-48bf-820c-f97a260465c0.png)![image.png](attachment:25bfd2b4-fb31-4f43-80ee-1ab5474e0a47.png)"
   ]
  },
  {
   "cell_type": "code",
   "execution_count": 284,
   "id": "2457f354-2325-4c67-92b4-3161ed3cf39d",
   "metadata": {
    "editable": true,
    "slideshow": {
     "slide_type": "subslide"
    },
    "tags": []
   },
   "outputs": [
    {
     "data": {
      "text/plain": [
       "(array([1, 2, 3, 4]), array([1, 2, 3]))"
      ]
     },
     "execution_count": 284,
     "metadata": {},
     "output_type": "execute_result"
    }
   ],
   "source": [
    "A = np.arange(1,5)\n",
    "B = np.arange(1,4)\n",
    "A, B"
   ]
  },
  {
   "cell_type": "code",
   "execution_count": 285,
   "id": "b82f8747-6f5d-42d4-9648-2460e2874728",
   "metadata": {},
   "outputs": [
    {
     "data": {
      "text/plain": [
       "array([10, 20, 30, 40])"
      ]
     },
     "execution_count": 285,
     "metadata": {},
     "output_type": "execute_result"
    }
   ],
   "source": [
    "A * 10"
   ]
  },
  {
   "cell_type": "code",
   "execution_count": 286,
   "id": "70438e7c-9d02-403e-999e-02a7eb272f30",
   "metadata": {},
   "outputs": [
    {
     "ename": "ValueError",
     "evalue": "operands could not be broadcast together with shapes (4,) (3,) ",
     "output_type": "error",
     "traceback": [
      "\u001b[0;31m---------------------------------------------------------------------------\u001b[0m",
      "\u001b[0;31mValueError\u001b[0m                                Traceback (most recent call last)",
      "Cell \u001b[0;32mIn[286], line 1\u001b[0m\n\u001b[0;32m----> 1\u001b[0m \u001b[43mA\u001b[49m\u001b[43m \u001b[49m\u001b[38;5;241;43m*\u001b[39;49m\u001b[43m \u001b[49m\u001b[43mB\u001b[49m\n",
      "\u001b[0;31mValueError\u001b[0m: operands could not be broadcast together with shapes (4,) (3,) "
     ]
    }
   ],
   "source": [
    "A * B"
   ]
  },
  {
   "cell_type": "code",
   "execution_count": 287,
   "id": "e7e8ecee-e5ba-4ecd-9579-465f1e65162f",
   "metadata": {},
   "outputs": [
    {
     "data": {
      "text/plain": [
       "((4, 1), (3, 1))"
      ]
     },
     "execution_count": 287,
     "metadata": {},
     "output_type": "execute_result"
    }
   ],
   "source": [
    "A[:,None].shape, B[:,None].shape"
   ]
  },
  {
   "cell_type": "code",
   "execution_count": 288,
   "id": "2215fbca-7697-4894-bd3d-db0567b2df7b",
   "metadata": {},
   "outputs": [
    {
     "data": {
      "text/plain": [
       "array([[ 1,  2,  3,  4],\n",
       "       [ 2,  4,  6,  8],\n",
       "       [ 3,  6,  9, 12]])"
      ]
     },
     "execution_count": 288,
     "metadata": {},
     "output_type": "execute_result"
    }
   ],
   "source": [
    "A * B[:,None]"
   ]
  },
  {
   "cell_type": "code",
   "execution_count": 291,
   "id": "6636c534-de68-4a17-b1a9-894567414622",
   "metadata": {},
   "outputs": [
    {
     "ename": "ValueError",
     "evalue": "operands could not be broadcast together with shapes (1,4) (3,) ",
     "output_type": "error",
     "traceback": [
      "\u001b[0;31m---------------------------------------------------------------------------\u001b[0m",
      "\u001b[0;31mValueError\u001b[0m                                Traceback (most recent call last)",
      "Cell \u001b[0;32mIn[291], line 1\u001b[0m\n\u001b[0;32m----> 1\u001b[0m \u001b[43mA\u001b[49m\u001b[43m[\u001b[49m\u001b[38;5;28;43;01mNone\u001b[39;49;00m\u001b[43m,\u001b[49m\u001b[43m:\u001b[49m\u001b[43m]\u001b[49m\u001b[43m \u001b[49m\u001b[38;5;241;43m*\u001b[39;49m\u001b[43m \u001b[49m\u001b[43mB\u001b[49m\n",
      "\u001b[0;31mValueError\u001b[0m: operands could not be broadcast together with shapes (1,4) (3,) "
     ]
    }
   ],
   "source": [
    "A[None,:] * B"
   ]
  },
  {
   "cell_type": "code",
   "execution_count": 290,
   "id": "cc4b79f4-7a72-4c3f-b2af-415dae2c8a96",
   "metadata": {},
   "outputs": [
    {
     "data": {
      "text/plain": [
       "array([[1],\n",
       "       [2],\n",
       "       [3]])"
      ]
     },
     "execution_count": 290,
     "metadata": {},
     "output_type": "execute_result"
    }
   ],
   "source": [
    "B[:,None]"
   ]
  },
  {
   "cell_type": "code",
   "execution_count": 292,
   "id": "d74a8487-ee46-4453-ac8a-19ff4792de8e",
   "metadata": {
    "editable": true,
    "slideshow": {
     "slide_type": "subslide"
    },
    "tags": []
   },
   "outputs": [
    {
     "name": "stdout",
     "output_type": "stream",
     "text": [
      "(4, 2, 2)\n"
     ]
    },
    {
     "data": {
      "text/plain": [
       "array([[[0, 0],\n",
       "        [0, 0]],\n",
       "\n",
       "       [[1, 0],\n",
       "        [0, 2]],\n",
       "\n",
       "       [[2, 0],\n",
       "        [0, 4]],\n",
       "\n",
       "       [[3, 0],\n",
       "        [0, 6]]])"
      ]
     },
     "execution_count": 292,
     "metadata": {},
     "output_type": "execute_result"
    }
   ],
   "source": [
    "matrices = np.arange(4)[:,None,None] * np.diag([1,2])\n",
    "print(matrices.shape)\n",
    "matrices"
   ]
  },
  {
   "cell_type": "code",
   "execution_count": 293,
   "id": "49cc2567-3a6e-4373-acc2-dc52b1ab1915",
   "metadata": {},
   "outputs": [
    {
     "data": {
      "text/plain": [
       "array([[[ 0,  0],\n",
       "        [ 0,  0]],\n",
       "\n",
       "       [[ 1,  0],\n",
       "        [ 0, -2]],\n",
       "\n",
       "       [[ 2,  0],\n",
       "        [ 0, -4]],\n",
       "\n",
       "       [[ 3,  0],\n",
       "        [ 0, -6]]])"
      ]
     },
     "execution_count": 293,
     "metadata": {},
     "output_type": "execute_result"
    }
   ],
   "source": [
    "vector = np.array([1,-1])\n",
    "matrices * vector"
   ]
  },
  {
   "cell_type": "code",
   "execution_count": 294,
   "id": "eaea1176-5d6e-4508-a395-9dbb1c7341b8",
   "metadata": {},
   "outputs": [
    {
     "data": {
      "text/plain": [
       "((4, 2, 2), (2,))"
      ]
     },
     "execution_count": 294,
     "metadata": {},
     "output_type": "execute_result"
    }
   ],
   "source": [
    "matrices.shape, vector.shape"
   ]
  },
  {
   "cell_type": "code",
   "execution_count": 298,
   "id": "f8718953-b17e-43e0-ad35-9c1d8d4e687d",
   "metadata": {},
   "outputs": [
    {
     "data": {
      "text/plain": [
       "array([[ 0,  0],\n",
       "       [ 1, -2],\n",
       "       [ 2, -4],\n",
       "       [ 3, -6]])"
      ]
     },
     "execution_count": 298,
     "metadata": {},
     "output_type": "execute_result"
    }
   ],
   "source": [
    "(matrices * vector).sum(-1)"
   ]
  },
  {
   "cell_type": "code",
   "execution_count": 299,
   "id": "088bbac8-2df0-42af-b4f5-a8d70071233d",
   "metadata": {},
   "outputs": [
    {
     "data": {
      "text/plain": [
       "array([[ 0,  0],\n",
       "       [ 1, -2],\n",
       "       [ 2, -4],\n",
       "       [ 3, -6]])"
      ]
     },
     "execution_count": 299,
     "metadata": {},
     "output_type": "execute_result"
    }
   ],
   "source": [
    "matrices @ vector"
   ]
  },
  {
   "cell_type": "code",
   "execution_count": 301,
   "id": "de924947-4fac-4386-ae23-ccf2b13ba9e2",
   "metadata": {},
   "outputs": [
    {
     "data": {
      "text/plain": [
       "array([[ 0,  0],\n",
       "       [ 1, -2],\n",
       "       [ 2, -4],\n",
       "       [ 3, -6]])"
      ]
     },
     "execution_count": 301,
     "metadata": {},
     "output_type": "execute_result"
    }
   ],
   "source": [
    "np.tensordot(matrices, vector, (2,0))"
   ]
  },
  {
   "cell_type": "markdown",
   "id": "bec69b01-b7eb-44fc-a6e5-d5dc7086e508",
   "metadata": {
    "editable": true,
    "slideshow": {
     "slide_type": "slide"
    },
    "tags": []
   },
   "source": [
    "## Array manipulation\n",
    "\n",
    "[Array manipulation routines — NumPy v2.0 Manual](https://numpy.org/doc/stable/reference/routines.array-manipulation.html)"
   ]
  },
  {
   "cell_type": "code",
   "execution_count": 302,
   "id": "61f1f1b4-1c60-4086-9ba4-90fb1b38899b",
   "metadata": {},
   "outputs": [
    {
     "data": {
      "text/plain": [
       "(array([11, 12,  3,  4,  5,  6]), array([11, 12]))"
      ]
     },
     "execution_count": 302,
     "metadata": {},
     "output_type": "execute_result"
    }
   ],
   "source": [
    "a = np.array([1, 2, 3, 4, 5, 6])\n",
    "b = a[:2]\n",
    "b += 10\n",
    "a, b"
   ]
  },
  {
   "cell_type": "code",
   "execution_count": 304,
   "id": "0fc2366d-2e92-430b-9946-6ed28a868694",
   "metadata": {},
   "outputs": [
    {
     "data": {
      "text/plain": [
       "(array([1, 2, 3, 4, 5, 6]), array([11, 12]))"
      ]
     },
     "execution_count": 304,
     "metadata": {},
     "output_type": "execute_result"
    }
   ],
   "source": [
    "a = np.array([1, 2, 3, 4, 5, 6])\n",
    "b = a[:2].copy()\n",
    "b += 10\n",
    "a, b"
   ]
  },
  {
   "cell_type": "code",
   "execution_count": 305,
   "id": "1f252917-17be-48b4-abeb-aeb5d725822f",
   "metadata": {
    "editable": true,
    "slideshow": {
     "slide_type": "subslide"
    },
    "tags": []
   },
   "outputs": [
    {
     "data": {
      "text/plain": [
       "array([[[[ 0,  1,  2,  3,  4],\n",
       "         [ 5,  6,  7,  8,  9]],\n",
       "\n",
       "        [[10, 11, 12, 13, 14],\n",
       "         [15, 16, 17, 18, 19]],\n",
       "\n",
       "        [[20, 21, 22, 23, 24],\n",
       "         [25, 26, 27, 28, 29]]],\n",
       "\n",
       "\n",
       "       [[[30, 31, 32, 33, 34],\n",
       "         [35, 36, 37, 38, 39]],\n",
       "\n",
       "        [[40, 41, 42, 43, 44],\n",
       "         [45, 46, 47, 48, 49]],\n",
       "\n",
       "        [[50, 51, 52, 53, 54],\n",
       "         [55, 56, 57, 58, 59]]]])"
      ]
     },
     "execution_count": 305,
     "metadata": {},
     "output_type": "execute_result"
    }
   ],
   "source": [
    "A = np.arange(60).reshape([2,3,2,5])\n",
    "A"
   ]
  },
  {
   "cell_type": "code",
   "execution_count": 307,
   "id": "79cd1038-0bdf-4b8d-bbb1-6dd5966039af",
   "metadata": {},
   "outputs": [
    {
     "data": {
      "text/plain": [
       "((2, 3, 2, 5), (5, 2, 3, 2), (3, 2, 5, 2))"
      ]
     },
     "execution_count": 307,
     "metadata": {},
     "output_type": "execute_result"
    }
   ],
   "source": [
    "A.shape, A.T.shape, A.transpose([1,0,3,2]).shape"
   ]
  },
  {
   "cell_type": "code",
   "execution_count": 308,
   "id": "584e6724-0263-49a2-bbef-b5803a741e2d",
   "metadata": {
    "editable": true,
    "slideshow": {
     "slide_type": "subslide"
    },
    "tags": []
   },
   "outputs": [
    {
     "data": {
      "text/plain": [
       "array([1, 0, 0, 2])"
      ]
     },
     "execution_count": 308,
     "metadata": {},
     "output_type": "execute_result"
    }
   ],
   "source": [
    "B = np.diag([1,2])\n",
    "B.flatten()"
   ]
  },
  {
   "cell_type": "code",
   "execution_count": 309,
   "id": "367604bc-1819-4e76-96b7-fd42bc5b15ea",
   "metadata": {},
   "outputs": [
    {
     "data": {
      "text/plain": [
       "array([[1, 0],\n",
       "       [0, 2]])"
      ]
     },
     "execution_count": 309,
     "metadata": {},
     "output_type": "execute_result"
    }
   ],
   "source": [
    "B"
   ]
  },
  {
   "cell_type": "code",
   "execution_count": 310,
   "id": "ddf46ff7-2a52-4faa-ae39-27f356908bdc",
   "metadata": {},
   "outputs": [
    {
     "data": {
      "text/plain": [
       "array([[1, 0, 1, 0, 1, 0],\n",
       "       [0, 2, 0, 2, 0, 2],\n",
       "       [1, 0, 1, 0, 1, 0],\n",
       "       [0, 2, 0, 2, 0, 2]])"
      ]
     },
     "execution_count": 310,
     "metadata": {},
     "output_type": "execute_result"
    }
   ],
   "source": [
    "np.tile(B, (2,3))"
   ]
  },
  {
   "cell_type": "code",
   "execution_count": 311,
   "id": "8d80c8b2-cff3-4d12-92df-402bdbe0c137",
   "metadata": {},
   "outputs": [
    {
     "data": {
      "text/plain": [
       "array([[1, 0, 2, 0],\n",
       "       [0, 2, 0, 4]])"
      ]
     },
     "execution_count": 311,
     "metadata": {},
     "output_type": "execute_result"
    }
   ],
   "source": [
    "np.hstack([B, 2*B])"
   ]
  },
  {
   "cell_type": "code",
   "execution_count": 312,
   "id": "c2bfbdf2-2232-40c8-b711-af53b6c0a9f6",
   "metadata": {},
   "outputs": [
    {
     "data": {
      "text/plain": [
       "array([[1, 0],\n",
       "       [0, 2],\n",
       "       [2, 0],\n",
       "       [0, 4]])"
      ]
     },
     "execution_count": 312,
     "metadata": {},
     "output_type": "execute_result"
    }
   ],
   "source": [
    "np.vstack([B, 2*B])"
   ]
  },
  {
   "cell_type": "code",
   "execution_count": 313,
   "id": "eae289fa-237a-42d4-bfa4-daa96f7bfec9",
   "metadata": {},
   "outputs": [
    {
     "data": {
      "text/plain": [
       "array([[1, 0],\n",
       "       [0, 2],\n",
       "       [1, 0],\n",
       "       [0, 2]])"
      ]
     },
     "execution_count": 313,
     "metadata": {},
     "output_type": "execute_result"
    }
   ],
   "source": [
    "np.concatenate([B, B])"
   ]
  },
  {
   "cell_type": "code",
   "execution_count": 314,
   "id": "a7b252f2-889c-4460-8f14-0e89ee9acbdb",
   "metadata": {},
   "outputs": [
    {
     "data": {
      "text/plain": [
       "array([[1, 0, 2, 0],\n",
       "       [0, 2, 0, 4],\n",
       "       [3, 0, 4, 0],\n",
       "       [0, 6, 0, 8]])"
      ]
     },
     "execution_count": 314,
     "metadata": {},
     "output_type": "execute_result"
    }
   ],
   "source": [
    "np.block([[B, 2*B], [3*B, 4*B]])"
   ]
  },
  {
   "cell_type": "markdown",
   "id": "7b5b74b2-d155-45b4-aba5-2e18d5e30920",
   "metadata": {
    "editable": true,
    "slideshow": {
     "slide_type": "slide"
    },
    "tags": []
   },
   "source": [
    "## Linear algebra"
   ]
  },
  {
   "cell_type": "code",
   "execution_count": 315,
   "id": "f2e26727-13d5-4bf0-8ac5-d4a3634f47c0",
   "metadata": {},
   "outputs": [
    {
     "data": {
      "text/plain": [
       "array([1, 5])"
      ]
     },
     "execution_count": 315,
     "metadata": {},
     "output_type": "execute_result"
    }
   ],
   "source": [
    "A = np.array([[1,2],[3,4]])\n",
    "b = np.array([3,-1])\n",
    "A @ b"
   ]
  },
  {
   "cell_type": "code",
   "execution_count": 316,
   "id": "5dddb7ec-aebd-4825-a256-b629162dc394",
   "metadata": {},
   "outputs": [
    {
     "data": {
      "text/plain": [
       "array([[ 0,  0],\n",
       "       [ 1, -2],\n",
       "       [ 2, -4],\n",
       "       [ 3, -6]])"
      ]
     },
     "execution_count": 316,
     "metadata": {},
     "output_type": "execute_result"
    }
   ],
   "source": [
    "vector = np.array([1,-1])\n",
    "(matrices * vector).sum(-1)"
   ]
  },
  {
   "cell_type": "code",
   "execution_count": 317,
   "id": "7c23922b-78fb-45cb-ae6e-eab7928d3764",
   "metadata": {},
   "outputs": [
    {
     "data": {
      "text/plain": [
       "array([[ 0,  0],\n",
       "       [ 1, -2],\n",
       "       [ 2, -4],\n",
       "       [ 3, -6]])"
      ]
     },
     "execution_count": 317,
     "metadata": {},
     "output_type": "execute_result"
    }
   ],
   "source": [
    "matrices @ vector"
   ]
  },
  {
   "cell_type": "code",
   "execution_count": 318,
   "id": "8de8b475-01ef-4eb2-a168-5d9e09da4bfc",
   "metadata": {},
   "outputs": [
    {
     "data": {
      "text/plain": [
       "array([[ 0,  0],\n",
       "       [ 1, -2],\n",
       "       [ 2, -4],\n",
       "       [ 3, -6]])"
      ]
     },
     "execution_count": 318,
     "metadata": {},
     "output_type": "execute_result"
    }
   ],
   "source": [
    "np.tensordot(matrices, vector, (2,0))"
   ]
  },
  {
   "cell_type": "code",
   "execution_count": 319,
   "id": "c2e94bac-5258-4106-89e4-8167a50bedcf",
   "metadata": {
    "editable": true,
    "slideshow": {
     "slide_type": "subslide"
    },
    "tags": []
   },
   "outputs": [
    {
     "data": {
      "text/plain": [
       "EigResult(eigenvalues=array([-0.37228132,  5.37228132]), eigenvectors=array([[-0.82456484, -0.41597356],\n",
       "       [ 0.56576746, -0.90937671]]))"
      ]
     },
     "execution_count": 319,
     "metadata": {},
     "output_type": "execute_result"
    }
   ],
   "source": [
    "np.linalg.eig(A)"
   ]
  },
  {
   "cell_type": "code",
   "execution_count": 320,
   "id": "68fde1cb-6d34-4f55-bb7b-cb96e2121675",
   "metadata": {},
   "outputs": [
    {
     "data": {
      "text/plain": [
       "array([-0.37228132,  5.37228132])"
      ]
     },
     "execution_count": 320,
     "metadata": {},
     "output_type": "execute_result"
    }
   ],
   "source": [
    "vals, vecs = np.linalg.eig(A)\n",
    "vals"
   ]
  },
  {
   "cell_type": "code",
   "execution_count": 321,
   "id": "6bd25ed4-5ae9-4e92-88e0-32765e9cbec8",
   "metadata": {},
   "outputs": [
    {
     "data": {
      "text/plain": [
       "-2.0000000000000004"
      ]
     },
     "execution_count": 321,
     "metadata": {},
     "output_type": "execute_result"
    }
   ],
   "source": [
    "np.linalg.det(A)"
   ]
  },
  {
   "cell_type": "code",
   "execution_count": 322,
   "id": "844e2a01-4e9a-44d0-86e4-7f28596bd4ef",
   "metadata": {
    "editable": true,
    "slideshow": {
     "slide_type": "subslide"
    },
    "tags": []
   },
   "outputs": [],
   "source": [
    "import scipy.linalg as la"
   ]
  },
  {
   "cell_type": "code",
   "execution_count": 323,
   "id": "1dd5abe6-3477-489a-b9ed-aab4cba89f0a",
   "metadata": {},
   "outputs": [
    {
     "name": "stdout",
     "output_type": "stream",
     "text": [
      "['LinAlgError', '__all__', '__builtins__', '__cached__', '__doc__', '__file__', '__loader__', '__name__', '__package__', '__path__', '__spec__', '_umath_linalg', 'cholesky', 'cond', 'det', 'eig', 'eigh', 'eigvals', 'eigvalsh', 'inv', 'linalg', 'lstsq', 'matrix_power', 'matrix_rank', 'multi_dot', 'norm', 'pinv', 'qr', 'slogdet', 'solve', 'svd', 'tensorinv', 'tensorsolve', 'test']\n"
     ]
    }
   ],
   "source": [
    "print(dir(np.linalg))"
   ]
  },
  {
   "cell_type": "code",
   "execution_count": 324,
   "id": "5b555ee8-33fa-4a73-9f13-481c65dbb852",
   "metadata": {},
   "outputs": [
    {
     "name": "stdout",
     "output_type": "stream",
     "text": [
      "['LinAlgError', 'LinAlgWarning', '__all__', '__builtins__', '__cached__', '__doc__', '__file__', '__loader__', '__name__', '__package__', '__path__', '__spec__', '_basic', '_cythonized_array_utils', '_decomp', '_decomp_cholesky', '_decomp_cossin', '_decomp_ldl', '_decomp_lu', '_decomp_lu_cython', '_decomp_polar', '_decomp_qr', '_decomp_qz', '_decomp_schur', '_decomp_svd', '_decomp_update', '_expm_frechet', '_fblas', '_flapack', '_matfuncs', '_matfuncs_expm', '_matfuncs_sqrtm', '_matfuncs_sqrtm_triu', '_misc', '_procrustes', '_sketches', '_solve_toeplitz', '_solvers', '_special_matrices', 'bandwidth', 'basic', 'blas', 'block_diag', 'cdf2rdf', 'cho_factor', 'cho_solve', 'cho_solve_banded', 'cholesky', 'cholesky_banded', 'circulant', 'clarkson_woodruff_transform', 'companion', 'convolution_matrix', 'coshm', 'cosm', 'cossin', 'cython_blas', 'cython_lapack', 'decomp', 'decomp_cholesky', 'decomp_lu', 'decomp_qr', 'decomp_schur', 'decomp_svd', 'det', 'dft', 'diagsvd', 'eig', 'eig_banded', 'eigh', 'eigh_tridiagonal', 'eigvals', 'eigvals_banded', 'eigvalsh', 'eigvalsh_tridiagonal', 'expm', 'expm_cond', 'expm_frechet', 'fiedler', 'fiedler_companion', 'find_best_blas_type', 'fractional_matrix_power', 'funm', 'get_blas_funcs', 'get_lapack_funcs', 'hadamard', 'hankel', 'helmert', 'hessenberg', 'hilbert', 'inv', 'invhilbert', 'invpascal', 'ishermitian', 'issymmetric', 'khatri_rao', 'kron', 'lapack', 'ldl', 'leslie', 'logm', 'lstsq', 'lu', 'lu_factor', 'lu_solve', 'matfuncs', 'matmul_toeplitz', 'matrix_balance', 'misc', 'norm', 'null_space', 'ordqz', 'orth', 'orthogonal_procrustes', 'pascal', 'pinv', 'pinvh', 'polar', 'qr', 'qr_delete', 'qr_insert', 'qr_multiply', 'qr_update', 'qz', 'rq', 'rsf2csf', 'schur', 'signm', 'sinhm', 'sinm', 'solve', 'solve_banded', 'solve_circulant', 'solve_continuous_are', 'solve_continuous_lyapunov', 'solve_discrete_are', 'solve_discrete_lyapunov', 'solve_lyapunov', 'solve_sylvester', 'solve_toeplitz', 'solve_triangular', 'solveh_banded', 'special_matrices', 'sqrtm', 'subspace_angles', 'svd', 'svdvals', 'tanhm', 'tanm', 'test', 'toeplitz']\n"
     ]
    }
   ],
   "source": [
    "print(dir(la))"
   ]
  },
  {
   "cell_type": "code",
   "execution_count": 325,
   "id": "57eb103b-3c0f-4d92-ad64-10fa1d7bd968",
   "metadata": {
    "editable": true,
    "slideshow": {
     "slide_type": ""
    },
    "tags": []
   },
   "outputs": [
    {
     "data": {
      "text/plain": [
       "array([[ 51.9689562 ,  74.73656457],\n",
       "       [112.10484685, 164.07380305]])"
      ]
     },
     "execution_count": 325,
     "metadata": {},
     "output_type": "execute_result"
    }
   ],
   "source": [
    "la.expm(A)"
   ]
  }
 ],
 "metadata": {
  "@deathbeds/jupyterlab-fonts": {
   "fontLicenses": {},
   "fonts": {},
   "styles": {
    ":root": {}
   }
  },
  "kernelspec": {
   "display_name": "Python 3 (ipykernel)",
   "language": "python",
   "name": "python3"
  },
  "language_info": {
   "codemirror_mode": {
    "name": "ipython",
    "version": 3
   },
   "file_extension": ".py",
   "mimetype": "text/x-python",
   "name": "python",
   "nbconvert_exporter": "python",
   "pygments_lexer": "ipython3",
   "version": "3.12.4"
  }
 },
 "nbformat": 4,
 "nbformat_minor": 5
}
