{
 "cells": [
  {
   "cell_type": "markdown",
   "id": "7f794507-b53c-4292-ab1c-9ea1d2846193",
   "metadata": {},
   "source": [
    "# Visualisation\n",
    "\n",
    "Visualising data is a core skill of any scientist. It enables you to explore and understand your data and calculations, and to tell a story about the data to your audience. Apart from static plots, it can also be very useful to use animations or interactive plots to present and explore your data."
   ]
  },
  {
   "cell_type": "markdown",
   "id": "ec2c980e-e4bc-4257-a050-2f39cc540efe",
   "metadata": {},
   "source": [
    "## Matplotlib\n",
    "\n",
    "There are a bunch of very nice plotting libraries for Python, also many that do high-quality interactive visualisations. Prominent examples are [Plotly](https://plotly.com/python/), [Bokeh](https://bokeh.org), [Vega-Altair](https://altair-viz.github.io) and [seaborn](https://seaborn.pydata.org). It is fun to play around with these libraries and get inspiration for how to present data in clever, enlightening ways.\n",
    "\n",
    "Good old [Matplotlib](https://matplotlib.org) is however still the \"industry standard\" and go-to plotting tool for most scientists working in Python."
   ]
  },
  {
   "cell_type": "code",
   "execution_count": null,
   "id": "e3d3aa95-f693-4297-a9e5-5cf5a6f923c6",
   "metadata": {},
   "outputs": [],
   "source": [
    "import numpy as np\n",
    "import matplotlib.pyplot as plt\n",
    "import ipywidgets as widgets\n",
    "from ipywidgets import interact, interactive\n",
    "from matplotlib.animation import ArtistAnimation\n",
    "from matplotlib import colormaps\n",
    "from IPython.display import HTML"
   ]
  },
  {
   "cell_type": "markdown",
   "id": "954ed9b6-ddd7-432b-bd33-b0473be3d777",
   "metadata": {},
   "source": [
    "Let's explore the cavity-QED system from class 4:"
   ]
  },
  {
   "cell_type": "code",
   "execution_count": null,
   "id": "0c05696c-134e-4265-8300-9bfcfd57115d",
   "metadata": {},
   "outputs": [],
   "source": [
    "import qutip as q\n",
    "\n",
    "N = 50\n",
    "sz = q.tensor(q.sigmaz(), q.identity(N))\n",
    "sm = q.tensor(q.sigmam(), q.identity(N))\n",
    "sp = q.tensor(q.sigmap(), q.identity(N))\n",
    "a = q.tensor(q.identity(2), q.destroy(N))\n",
    "ad = q.tensor(q.identity(2), q.create(N))\n",
    "pi2 = 2*np.pi\n",
    "\n",
    "def solve_qed(om_a, om_c, Om, gamma=0, alpha=0, t=np.linspace(0, 100, 200), return_states=True):\n",
    "    \"\"\"Solve the cavity QED system using qutip.mesolve.\n",
    "\n",
    "    Parameters:\n",
    "    om_a  : atomic transition frequency\n",
    "    om_c  : cavity resonance frequency\n",
    "    Om    : vacuum Rabi frequency (coupling strength)\n",
    "    gamma : atomic decay rate\n",
    "    alpha : amplitude of the initial coherent state of the cavity \n",
    "    t     : array of time values at which to evaluate the state evolution\n",
    "    \"\"\"\n",
    "    om_a = pi2 * om_a\n",
    "    om_c = pi2 * om_c\n",
    "    Om = pi2 * Om\n",
    "    gamma = pi2 * gamma\n",
    "    H = om_a/2 * sz + om_c * ad*a + Om/2 * (sp * a + sm * ad)\n",
    "    rho0 = q.tensor(q.basis(2,0), q.coherent(N, alpha))\n",
    "\n",
    "    if return_states:\n",
    "        e_ops = None\n",
    "    else:\n",
    "        e_ops = [sp*sm, ad*a]\n",
    "    \n",
    "    if gamma > 0:\n",
    "        c_ops = [np.sqrt(gamma) * sm]\n",
    "    else:\n",
    "        c_ops = None\n",
    "        \n",
    "    result = q.mesolve(H, rho0, t, c_ops, e_ops)\n",
    "    \n",
    "    return result"
   ]
  },
  {
   "cell_type": "code",
   "execution_count": null,
   "id": "fb2d23fd-c568-4873-8bbb-7b7362962f97",
   "metadata": {},
   "outputs": [],
   "source": [
    "result = solve_qed(om_a=1, om_c=1, Om=.05, gamma=0, alpha=3, t=np.linspace(0,300,500), return_states=False)\n",
    "plt.subplots()\n",
    "plt.plot(result.times, result.expect[0])"
   ]
  },
  {
   "cell_type": "code",
   "execution_count": null,
   "id": "1cb70ec3-c827-4472-b026-95cd3dd4382b",
   "metadata": {},
   "outputs": [],
   "source": [
    "alphas = np.linspace(0, 4, 4)\n",
    "Oms = [.025, .05, .1]\n",
    "om_a = 1\n",
    "om_c = 1\n",
    "t = np.linspace(0, 200, 200)\n",
    "\n",
    "fig, axs = plt.subplots(len(alphas), len(Oms), \n",
    "                        sharex=True, sharey=True, \n",
    "                        figsize=(9,9), gridspec_kw=dict(wspace=0, hspace=0))\n",
    "for i, alpha in enumerate(alphas):\n",
    "    for j, Om in enumerate(Oms):\n",
    "        result = solve_qed(om_a, om_c, Om, gamma=0, alpha=alpha, t=t, return_states=False)\n",
    "        axs[i,j].plot(t, result.expect[0])\n",
    "        axs[i,j].text(.5, .9, f'Ω = 2π × {Om:.3f}\\nα = 2π × {alpha:.1f}', \n",
    "                      size=8, ha='left', va='top',\n",
    "                      bbox=dict(ec=(.5,.5,.5), fc=(.8,.8,1,.8)), transform=axs[i,j].transAxes)\n",
    "        if i==len(alphas)-1:\n",
    "            axs[i,j].set_xlabel('t')\n",
    "    axs[i,0].set_ylabel('population')\n"
   ]
  },
  {
   "cell_type": "markdown",
   "id": "56f53607-fcf8-433e-88d0-2955708483dd",
   "metadata": {},
   "source": [
    "### Polishing plots\n",
    "\n",
    "Matplotlib plots don't look amazing out of the box, but there are a million ways to customise their look.\n",
    "\n",
    "Below is an example of my own of a 3D Wigner function plot that involves a lot of customisation of plot type, view angle, colormap, labels, etc.\n",
    "\n",
    "An great resource for getting inspiration on how to pretty up your Matplotlib plots is [Python Graph Gallery](https://python-graph-gallery.com/), which also has instructions for other plotting libraries. Especially the tutorials in the [BEST](https://python-graph-gallery.com/best-python-chart-examples/) section are excellent!"
   ]
  },
  {
   "cell_type": "code",
   "execution_count": null,
   "id": "8bfb2ac3-0f02-4f7d-9522-b026ee297fd7",
   "metadata": {},
   "outputs": [],
   "source": [
    "N = 30\n",
    "xvec = np.linspace(-4,4,121)\n",
    "s = (q.destroy(N) * q.squeeze(N, .3) * q.basis(N)).unit()\n",
    "wig = q.wigner(s, xvec, xvec)"
   ]
  },
  {
   "cell_type": "code",
   "execution_count": null,
   "id": "befe4c41-89f7-426e-bb92-83229f570a6c",
   "metadata": {},
   "outputs": [],
   "source": [
    "X, P = np.meshgrid(xvec, xvec)"
   ]
  },
  {
   "cell_type": "code",
   "execution_count": null,
   "id": "10964076-74b8-4fba-9b51-bb6fe057f20f",
   "metadata": {},
   "outputs": [],
   "source": [
    "# From: https://matplotlib.org/stable/gallery/mplot3d/pathpatch3d.html\n",
    "from matplotlib.patches import Circle, PathPatch\n",
    "from matplotlib.text import TextPath\n",
    "from matplotlib.transforms import Affine2D\n",
    "import mpl_toolkits.mplot3d.art3d as art3d\n",
    "\n",
    "def text3d(ax, xyz, s, zdir=\"z\", size=None, angle=0, flip=False, usetex=False, **kwargs):\n",
    "    \"\"\"  \n",
    "    Plots the string *s* on the Axes *ax*, with position *xyz*, size *size*,\n",
    "    and rotation angle *angle*. *zdir* gives the axis which is to be treated as\n",
    "    the third dimension. *usetex* is a boolean indicating whether the string\n",
    "    should be run through a LaTeX subprocess or not.  Any additional keyword\n",
    "    arguments are forwarded to `.transform_path`.\n",
    "\n",
    "    Note: zdir affects the interpretation of xyz.\n",
    "    \"\"\"\n",
    "    x, y, z = xyz\n",
    "    if zdir == \"y\":\n",
    "        xy1, z1 = (x, z), y\n",
    "        sx = np.diff(ax.get_xlim())[0]\n",
    "        sy = np.diff(ax.get_zlim())[0]\n",
    "    elif zdir == \"x\":\n",
    "        xy1, z1 = (y, z), x\n",
    "        sx = np.diff(ax.get_ylim())[0]\n",
    "        sy = np.diff(ax.get_zlim())[0]\n",
    "    else:\n",
    "        xy1, z1 = (x, y), z\n",
    "        sx = np.diff(ax.get_xlim())[0]\n",
    "        sy = np.diff(ax.get_ylim())[0]\n",
    "\n",
    "    if flip:\n",
    "        sx = -sx\n",
    "\n",
    "    text_path = TextPath((0, 0), s, size=size, usetex=usetex)\n",
    "    trans = Affine2D().scale(.01*sx, .01*sy).rotate(angle).translate(xy1[0], xy1[1])\n",
    "    # trans = Affine2D().rotate(angle).translate(xy1[0], xy1[1])\n",
    "\n",
    "    p1 = PathPatch(trans.transform_path(text_path), **kwargs)\n",
    "    ax.add_patch(p1)\n",
    "    art3d.pathpatch_2d_to_3d(p1, z=z1, zdir=zdir)\n",
    "    return p1"
   ]
  },
  {
   "cell_type": "code",
   "execution_count": null,
   "id": "37533799-6894-40d0-852e-9b1480314b66",
   "metadata": {},
   "outputs": [],
   "source": [
    "fig, ax = plt.subplots(figsize=(8,8),\n",
    "    subplot_kw={\"projection\": \"3d\", 'proj_type':'persp', \n",
    "                                   'elev':13, 'azim':0, 'focal_length':.2})\n",
    "ax.set_xlim(-4,4)\n",
    "ax.set_ylim(-4,4)\n",
    "ax.set_zlim(-.34,.34)\n",
    "\n",
    "ax.set_xticklabels([])\n",
    "ax.xaxis.set_tick_params(color='#0000')\n",
    "ax.xaxis.line.set_color('#0000')\n",
    "ax.set_yticklabels([])\n",
    "ax.yaxis.set_tick_params(color='#0000')\n",
    "ax.yaxis.line.set_color('#0000')\n",
    "ax.set_zticklabels([])\n",
    "ax.zaxis.set_tick_params(color='#0000')\n",
    "ax.zaxis.line.set_color('#0000')\n",
    "\n",
    "x, p = X.flatten(), P.flatten()\n",
    "w = wig.flatten()\n",
    "\n",
    "from matplotlib.colors import LinearSegmentedColormap\n",
    "vlim = .3\n",
    "c2 = [(0.,'#0047b2'), (0.18,'#0c50b7'), (0.26,'#2765c2'), (0.34,'#5889d3dd'), \\\n",
    "      (0.42,'#a2bee888'), (0.49,'#ffffff22'), (0.51,'#ffffff22'), (0.6,'#e8a2a288'), \\\n",
    "      (0.7,'#d35858dd'), (0.8,'#c22727'), (0.9,'#b70c0c'), (1.,'#b20000')]\n",
    "cmwig1 = LinearSegmentedColormap.from_list('cmwig1',c2) \n",
    "\n",
    "cont = ax.contourf(X, P, wig, levels=np.arange(-.34,.34,.02), cmap=cmwig1, vmin=-vlim, vmax=vlim,\n",
    "                   zdir='z', offset=-.34, alpha=.8, zorder=99)\n",
    "\n",
    "surf = ax.plot_trisurf(x, p, w, cmap=cmwig1, vmin=-vlim, vmax=vlim, \n",
    "                   linewidth=0, antialiased=True)\n",
    "\n",
    "wire = ax.plot_wireframe(X, P, wig, rstride=4, cstride=4, color='#555',\n",
    "                   linewidth=1, alpha=.3)\n",
    "\n",
    "for zval in [-.3,-.2,-.1,0,.1,.2,.3]:\n",
    "    text3d(ax, (3.5, -4.2, zval+.00), f'{zval:.2f}', zdir='x', size=4.5, flip=False,\n",
    "       ec='none', fc='k')\n",
    "    \n",
    "for yval in [-4,-2,0,2,4]:\n",
    "    text3d(ax, (4, 1.05*yval-.12, -.02), f'{yval}', zdir='x', size=5, flip=False,\n",
    "       ec='none', fc='k')\n",
    "\n",
    "for xval in [-4,-2,0,2,4]:\n",
    "    text3d(ax, (xval, 1.05*4-.12, -.02), f'{xval}', zdir='x', size=5, flip=False,\n",
    "       ec='none', fc='k')\n",
    "\n",
    "text3d(ax, (5, -.12, -.02), 'p', zdir='x', size=5, ec='none', fc='k')\n",
    "text3d(ax, (0, 4.5, -.02), 'x', zdir='x', size=5, ec='none', fc='k')\n",
    "text3d(ax, (3.5, -4.3, .35), 'W(x,p)', zdir='x', size=4.5, ec='none', fc='k')"
   ]
  },
  {
   "cell_type": "markdown",
   "id": "0be0a81b-da4e-4c9d-b3b3-079a56e78fbe",
   "metadata": {},
   "source": [
    "## Widgets\n",
    "\n",
    "Using [ipywidgets](https://ipywidgets.readthedocs.io/en/latest/index.html), it is really easy to add interactivity to your plots or other forms of outputs in the notebook - here illustrated with a small [SymPy](https://www.sympy.org/en/index.html) symbolic calculation ([source](https://github.com/jupyter-widgets/ipywidgets/blob/c579fcd1265af77a0d793aa47a7b9a401d952550/docs/source/examples/Factoring.ipynb)]:  "
   ]
  },
  {
   "cell_type": "code",
   "execution_count": null,
   "id": "a415e643-bcd5-402a-a385-03ebc0e131e2",
   "metadata": {},
   "outputs": [],
   "source": [
    "from sympy import Symbol, Eq, factor\n",
    "\n",
    "x = Symbol('x')\n",
    "\n",
    "def factorit(n=4):\n",
    "    return Eq(x**n-1, factor(x**n-1))\n",
    "\n",
    "factorit(12)"
   ]
  },
  {
   "cell_type": "code",
   "execution_count": null,
   "id": "65cdd57c-be6c-4551-9b2c-b056b55f221a",
   "metadata": {},
   "outputs": [],
   "source": [
    "slider = widgets.IntSlider(4, 2, 40)\n",
    "slider"
   ]
  },
  {
   "cell_type": "code",
   "execution_count": null,
   "id": "1ab981ff-6dd6-45dd-9bfc-ebf7aeb3e610",
   "metadata": {},
   "outputs": [],
   "source": [
    "interact(factorit, n=slider);"
   ]
  },
  {
   "cell_type": "code",
   "execution_count": null,
   "id": "094caae8-e073-44ae-a19a-0abda7f7b0d4",
   "metadata": {},
   "outputs": [],
   "source": [
    "interact(factorit, n=(2, 40, 2));"
   ]
  },
  {
   "cell_type": "code",
   "execution_count": null,
   "id": "12603b95-51be-4619-b6d9-4782881c9e6c",
   "metadata": {},
   "outputs": [],
   "source": [
    "sz = q.tensor(q.sigmaz(), q.identity(N))\n",
    "sm = q.tensor(q.sigmam(), q.identity(N))\n",
    "sp = q.tensor(q.sigmap(), q.identity(N))\n",
    "a = q.tensor(q.identity(2), q.destroy(N))\n",
    "ad = q.tensor(q.identity(2), q.create(N))\n",
    "pi2 = 2*np.pi\n",
    "\n",
    "@interact(om_a=(0.9,1.1,.01), om_c=(0.9,1.1,.01), Om=(0.,.5,.01), gamma=(0.,.1,.002), \n",
    "          plot_field=True, continuous_update=False)\n",
    "def plot_qed(om_a=1, om_c=1, Om=.1, gamma=0, max_t=100, plot_field=True):\n",
    "    alpha = 0\n",
    "\n",
    "    t = np.linspace(0, max_t, 200)\n",
    "    result = solve_qed(om_a, om_c, Om, gamma, alpha, t)\n",
    "    fig, ax = plt.subplots()\n",
    "    plt.plot(result.times, [q.expect(sp*sm, s) for s in result.states], label='atom population')\n",
    "    if plot_field:\n",
    "        plt.plot(result.times, [q.expect(ad*a, s) for s in result.states], label='cavity photon number')\n",
    "    plt.legend();"
   ]
  },
  {
   "cell_type": "code",
   "execution_count": null,
   "id": "7aab341d-e174-41d8-80cf-6d11c3b825c5",
   "metadata": {},
   "outputs": [],
   "source": [
    "plot_qed(1, 1, .1, .01)"
   ]
  },
  {
   "cell_type": "code",
   "execution_count": null,
   "id": "8e1f316f-b022-4ab0-a44e-064c0551e193",
   "metadata": {},
   "outputs": [],
   "source": [
    "interact(plot_qed, om_a=(0.,5.,.1), om_c=(0.,5.,.1), Om=(0.,.5,.01), gamma=(0.,.1,.002), plot_field=True,\n",
    "         continuous_update=False)"
   ]
  },
  {
   "cell_type": "markdown",
   "id": "fe2a57d0-fc70-4ca5-9713-cb16ed77e004",
   "metadata": {},
   "source": [
    "Next: \n",
    "* contour plot of Wigner\n",
    "* imshow of rho\n",
    "* animation of 3D Wigner\n",
    "* exercise: combine widgets and qutip to show effect of squeezing, displacement, photon addition on vacuum\n"
   ]
  },
  {
   "cell_type": "markdown",
   "id": "2ca8b542-30c8-4a6e-bf1e-415307ef24fd",
   "metadata": {},
   "source": [
    "## Animated plot"
   ]
  },
  {
   "cell_type": "code",
   "execution_count": null,
   "id": "a35ae272-f639-4bde-a261-53f598eddd12",
   "metadata": {},
   "outputs": [],
   "source": [
    "N = 30\n",
    "H = q.num(N)\n",
    "rho0 = q.coherent(N, 2)\n",
    "tlist = np.linspace(0,4*np.pi)\n",
    "sz = q.tensor(q.sigmaz(), q.identity(N))\n",
    "sm = q.tensor(q.sigmam(), q.identity(N))\n",
    "sp = q.tensor(q.sigmap(), q.identity(N))\n",
    "a = q.tensor(q.identity(2), q.destroy(N))\n",
    "ad = q.tensor(q.identity(2), q.create(N))\n",
    "pi2 = 2*np.pi\n",
    "sim_out = q.mesolve(H, rho0, tlist) "
   ]
  },
  {
   "cell_type": "code",
   "execution_count": null,
   "id": "04019f51-93e8-472d-bfb7-f6d85a519620",
   "metadata": {},
   "outputs": [],
   "source": [
    "xvec = np.linspace(-5,5,100)\n",
    "ims = []\n",
    "fig, ax = plt.subplots()\n",
    "ax.set_aspect(1)\n",
    "\n",
    "for s in sim_out.states:\n",
    "    W = q.wigner(s, xvec, xvec)\n",
    "    im = plt.contourf(xvec, xvec, W,\n",
    "                      vmin=-1/np.pi, vmax=1/np.pi, cmap=colormaps['RdBu_r'])\n",
    "    ims.append([im])\n",
    "\n",
    "ani = ArtistAnimation(fig, ims, interval=50, blit=True)\n",
    "HTML(ani.to_html5_video())"
   ]
  },
  {
   "cell_type": "code",
   "execution_count": null,
   "id": "12b3adea-f372-406d-88c9-4656f9b3e3ac",
   "metadata": {
    "scrolled": true
   },
   "outputs": [],
   "source": [
    "ani.to_html5_video()"
   ]
  },
  {
   "cell_type": "code",
   "execution_count": null,
   "id": "b5ee4f9a-841c-407a-acb7-09039c864721",
   "metadata": {},
   "outputs": [],
   "source": [
    "ani.save('out.mp4')"
   ]
  }
 ],
 "metadata": {
  "kernelspec": {
   "display_name": "Python 3 (ipykernel)",
   "language": "python",
   "name": "python3"
  },
  "language_info": {
   "codemirror_mode": {
    "name": "ipython",
    "version": 3
   },
   "file_extension": ".py",
   "mimetype": "text/x-python",
   "name": "python",
   "nbconvert_exporter": "python",
   "pygments_lexer": "ipython3",
   "version": "3.12.4"
  }
 },
 "nbformat": 4,
 "nbformat_minor": 5
}
