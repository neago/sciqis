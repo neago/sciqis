{
 "cells": [
  {
   "cell_type": "markdown",
   "metadata": {},
   "source": [
    "## SCIQIS > Setting up\n",
    "# Package management"
   ]
  },
  {
   "cell_type": "markdown",
   "metadata": {
    "slideshow": {
     "slide_type": "slide"
    }
   },
   "source": [
    "For installing the Python packages necessary in this course, I suggest to use the _miniconda_ distribution - a minimal version of Anaconda - and with that the _conda_ package manager."
   ]
  },
  {
   "cell_type": "markdown",
   "metadata": {
    "notebookRunGroups": {
     "groupValue": "1"
    },
    "slideshow": {
     "slide_type": "subslide"
    }
   },
   "source": [
    "It is possible (and common) to install packages into an environment — either the base or a separate one — gradually, as the need arises. However, as [remarked](https://docs.conda.io/projects/conda/en/latest/user-guide/tasks/manage-environments.html#creating-an-environment-with-commands) in the conda guide, it is better to install all packages and programs from the beginning, to avoid dependency conflicts (_happens often to me!_). This is particularly true [if you need to install some packages with pip](https://docs.conda.io/projects/conda/en/latest/user-guide/tasks/manage-environments.html#pip-in-env) because they're unavailable in conda or conda-forge.\n",
    "\n",
    "For easy and consistent installation, consider using an [environment.yml file](https://docs.conda.io/projects/conda/en/latest/user-guide/tasks/manage-environments.html#creating-an-environment-from-an-environment-yml-file), specifying all packages to be install at environment creation.\n",
    "\n",
    "For example, this is the `environment.yml` file for the main environment of this course:\n",
    "\n",
    "```yaml\n",
    "name: sciqis-main\n",
    "dependencies:\n",
    "  - pip\n",
    "  - numpy\n",
    "  - scipy\n",
    "  - matplotlib\n",
    "  - conda-forge::qutip\n",
    "  - conda-forge::pennylane\n",
    "  - conda-forge::strawberryfields\n",
    "  - conda-forge::cvxpy\n",
    "  - jupyter\n",
    "  - jupyterlab\n",
    "  - jupyterlab_widgets\n",
    "  - jupyterlab-git\n",
    "  - tqdm\n",
    "```\n",
    "\n",
    "Install the new environment from this file using\n",
    "\n",
    "```\n",
    "conda env create -f environment.yml\n",
    "```\n",
    "\n",
    "You can easily create this file manually, but it can also be exported from an existing environment:\n",
    "\n",
    "```\n",
    "conda env export > environment.yml\n",
    "```\n",
    "\n",
    "This export includes version numbers of all packages, so it is particularly useful for reproducibility of research, by sharing the environment used e.g. for data analysis.\n",
    "\n",
    "If you later change the packages listed in `environment.yml`, you can update your environment with\n",
    "```\n",
    "conda env update --file environment.yml --prune\n",
    "```"
   ]
  },
  {
   "cell_type": "markdown",
   "metadata": {},
   "source": []
  }
 ],
 "metadata": {
  "kernelspec": {
   "display_name": "sciqis-main",
   "language": "python",
   "name": "python3"
  },
  "language_info": {
   "name": "python",
   "version": "3.12.4"
  }
 },
 "nbformat": 4,
 "nbformat_minor": 2
}
